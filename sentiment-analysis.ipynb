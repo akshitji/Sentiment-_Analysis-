{
 "cells": [
  {
   "cell_type": "markdown",
   "id": "3fe3d44a",
   "metadata": {
    "papermill": {
     "duration": 0.005167,
     "end_time": "2025-01-22T09:48:38.391407",
     "exception": false,
     "start_time": "2025-01-22T09:48:38.386240",
     "status": "completed"
    },
    "tags": []
   },
   "source": [
    "## SENTIMENT ANALYSIS \n",
    "In this We will be seeing the dataset where we will analyzed the Human Behavior and Compare it \n"
   ]
  },
  {
   "cell_type": "code",
   "execution_count": 1,
   "id": "aea2ed55",
   "metadata": {
    "_cell_guid": "b1076dfc-b9ad-4769-8c92-a6c4dae69d19",
    "_uuid": "8f2839f25d086af736a60e9eeb907d3b93b6e0e5",
    "execution": {
     "iopub.execute_input": "2025-01-22T09:48:38.401985Z",
     "iopub.status.busy": "2025-01-22T09:48:38.401585Z",
     "iopub.status.idle": "2025-01-22T09:48:39.425658Z",
     "shell.execute_reply": "2025-01-22T09:48:39.424674Z"
    },
    "papermill": {
     "duration": 1.031385,
     "end_time": "2025-01-22T09:48:39.427458",
     "exception": false,
     "start_time": "2025-01-22T09:48:38.396073",
     "status": "completed"
    },
    "tags": []
   },
   "outputs": [
    {
     "name": "stdout",
     "output_type": "stream",
     "text": [
      "/kaggle/input/amazon-fine-food-reviews/hashes.txt\n",
      "/kaggle/input/amazon-fine-food-reviews/Reviews.csv\n",
      "/kaggle/input/amazon-fine-food-reviews/database.sqlite\n"
     ]
    }
   ],
   "source": [
    "# This Python 3 environment comes with many helpful analytics libraries installed\n",
    "# It is defined by the kaggle/python Docker image: https://github.com/kaggle/docker-python\n",
    "# For example, here's several helpful packages to load\n",
    "\n",
    "import numpy as np # linear algebra\n",
    "import pandas as pd # data processing, CSV file I/O (e.g. pd.read_csv)\n",
    "\n",
    "# Input data files are available in the read-only \"../input/\" directory\n",
    "# For example, running this (by clicking run or pressing Shift+Enter) will list all files under the input directory\n",
    "\n",
    "import os\n",
    "for dirname, _, filenames in os.walk('/kaggle/input'):\n",
    "    for filename in filenames:\n",
    "        print(os.path.join(dirname, filename))\n",
    "\n",
    "# You can write up to 20GB to the current directory (/kaggle/working/) that gets preserved as output when you create a version using \"Save & Run All\" \n",
    "# You can also write temporary files to /kaggle/temp/, but they won't be saved outside of the current session"
   ]
  },
  {
   "cell_type": "markdown",
   "id": "91a87564",
   "metadata": {
    "papermill": {
     "duration": 0.004351,
     "end_time": "2025-01-22T09:48:39.436813",
     "exception": false,
     "start_time": "2025-01-22T09:48:39.432462",
     "status": "completed"
    },
    "tags": []
   },
   "source": [
    "## SENTIMENT ANALYSIS "
   ]
  },
  {
   "cell_type": "markdown",
   "id": "0f40dbd5",
   "metadata": {
    "papermill": {
     "duration": 0.00429,
     "end_time": "2025-01-22T09:48:39.445611",
     "exception": false,
     "start_time": "2025-01-22T09:48:39.441321",
     "status": "completed"
    },
    "tags": []
   },
   "source": [
    "## In this we will take a dataset where we will see the human behavior \n"
   ]
  },
  {
   "cell_type": "code",
   "execution_count": 2,
   "id": "1296d144",
   "metadata": {
    "execution": {
     "iopub.execute_input": "2025-01-22T09:48:39.456085Z",
     "iopub.status.busy": "2025-01-22T09:48:39.455515Z",
     "iopub.status.idle": "2025-01-22T09:48:42.457993Z",
     "shell.execute_reply": "2025-01-22T09:48:42.456753Z"
    },
    "papermill": {
     "duration": 3.009888,
     "end_time": "2025-01-22T09:48:42.459996",
     "exception": false,
     "start_time": "2025-01-22T09:48:39.450108",
     "status": "completed"
    },
    "tags": []
   },
   "outputs": [],
   "source": [
    "import pandas as pd\n",
    "import numpy as np\n",
    "import matplotlib.pyplot as plt\n",
    "import seaborn as snb \n",
    "plt.style.use('ggplot')\n",
    "\n",
    "import nltk"
   ]
  },
  {
   "cell_type": "code",
   "execution_count": 3,
   "id": "8f8d9822",
   "metadata": {
    "execution": {
     "iopub.execute_input": "2025-01-22T09:48:42.471652Z",
     "iopub.status.busy": "2025-01-22T09:48:42.471051Z",
     "iopub.status.idle": "2025-01-22T09:48:51.430093Z",
     "shell.execute_reply": "2025-01-22T09:48:51.429116Z"
    },
    "papermill": {
     "duration": 8.966772,
     "end_time": "2025-01-22T09:48:51.431933",
     "exception": false,
     "start_time": "2025-01-22T09:48:42.465161",
     "status": "completed"
    },
    "tags": []
   },
   "outputs": [],
   "source": [
    "# Read the Data \n",
    "df=pd.read_csv('../input/amazon-fine-food-reviews/Reviews.csv')\n",
    "\n"
   ]
  },
  {
   "cell_type": "code",
   "execution_count": 4,
   "id": "c621d838",
   "metadata": {
    "execution": {
     "iopub.execute_input": "2025-01-22T09:48:51.442620Z",
     "iopub.status.busy": "2025-01-22T09:48:51.442275Z",
     "iopub.status.idle": "2025-01-22T09:48:51.469455Z",
     "shell.execute_reply": "2025-01-22T09:48:51.468370Z"
    },
    "papermill": {
     "duration": 0.034653,
     "end_time": "2025-01-22T09:48:51.471376",
     "exception": false,
     "start_time": "2025-01-22T09:48:51.436723",
     "status": "completed"
    },
    "tags": []
   },
   "outputs": [
    {
     "name": "stdout",
     "output_type": "stream",
     "text": [
      "(500, 10)\n"
     ]
    },
    {
     "data": {
      "text/html": [
       "<div>\n",
       "<style scoped>\n",
       "    .dataframe tbody tr th:only-of-type {\n",
       "        vertical-align: middle;\n",
       "    }\n",
       "\n",
       "    .dataframe tbody tr th {\n",
       "        vertical-align: top;\n",
       "    }\n",
       "\n",
       "    .dataframe thead th {\n",
       "        text-align: right;\n",
       "    }\n",
       "</style>\n",
       "<table border=\"1\" class=\"dataframe\">\n",
       "  <thead>\n",
       "    <tr style=\"text-align: right;\">\n",
       "      <th></th>\n",
       "      <th>Id</th>\n",
       "      <th>ProductId</th>\n",
       "      <th>UserId</th>\n",
       "      <th>ProfileName</th>\n",
       "      <th>HelpfulnessNumerator</th>\n",
       "      <th>HelpfulnessDenominator</th>\n",
       "      <th>Score</th>\n",
       "      <th>Time</th>\n",
       "      <th>Summary</th>\n",
       "      <th>Text</th>\n",
       "    </tr>\n",
       "  </thead>\n",
       "  <tbody>\n",
       "    <tr>\n",
       "      <th>0</th>\n",
       "      <td>1</td>\n",
       "      <td>B001E4KFG0</td>\n",
       "      <td>A3SGXH7AUHU8GW</td>\n",
       "      <td>delmartian</td>\n",
       "      <td>1</td>\n",
       "      <td>1</td>\n",
       "      <td>5</td>\n",
       "      <td>1303862400</td>\n",
       "      <td>Good Quality Dog Food</td>\n",
       "      <td>I have bought several of the Vitality canned d...</td>\n",
       "    </tr>\n",
       "    <tr>\n",
       "      <th>1</th>\n",
       "      <td>2</td>\n",
       "      <td>B00813GRG4</td>\n",
       "      <td>A1D87F6ZCVE5NK</td>\n",
       "      <td>dll pa</td>\n",
       "      <td>0</td>\n",
       "      <td>0</td>\n",
       "      <td>1</td>\n",
       "      <td>1346976000</td>\n",
       "      <td>Not as Advertised</td>\n",
       "      <td>Product arrived labeled as Jumbo Salted Peanut...</td>\n",
       "    </tr>\n",
       "    <tr>\n",
       "      <th>2</th>\n",
       "      <td>3</td>\n",
       "      <td>B000LQOCH0</td>\n",
       "      <td>ABXLMWJIXXAIN</td>\n",
       "      <td>Natalia Corres \"Natalia Corres\"</td>\n",
       "      <td>1</td>\n",
       "      <td>1</td>\n",
       "      <td>4</td>\n",
       "      <td>1219017600</td>\n",
       "      <td>\"Delight\" says it all</td>\n",
       "      <td>This is a confection that has been around a fe...</td>\n",
       "    </tr>\n",
       "    <tr>\n",
       "      <th>3</th>\n",
       "      <td>4</td>\n",
       "      <td>B000UA0QIQ</td>\n",
       "      <td>A395BORC6FGVXV</td>\n",
       "      <td>Karl</td>\n",
       "      <td>3</td>\n",
       "      <td>3</td>\n",
       "      <td>2</td>\n",
       "      <td>1307923200</td>\n",
       "      <td>Cough Medicine</td>\n",
       "      <td>If you are looking for the secret ingredient i...</td>\n",
       "    </tr>\n",
       "    <tr>\n",
       "      <th>4</th>\n",
       "      <td>5</td>\n",
       "      <td>B006K2ZZ7K</td>\n",
       "      <td>A1UQRSCLF8GW1T</td>\n",
       "      <td>Michael D. Bigham \"M. Wassir\"</td>\n",
       "      <td>0</td>\n",
       "      <td>0</td>\n",
       "      <td>5</td>\n",
       "      <td>1350777600</td>\n",
       "      <td>Great taffy</td>\n",
       "      <td>Great taffy at a great price.  There was a wid...</td>\n",
       "    </tr>\n",
       "  </tbody>\n",
       "</table>\n",
       "</div>"
      ],
      "text/plain": [
       "   Id   ProductId          UserId                      ProfileName  \\\n",
       "0   1  B001E4KFG0  A3SGXH7AUHU8GW                       delmartian   \n",
       "1   2  B00813GRG4  A1D87F6ZCVE5NK                           dll pa   \n",
       "2   3  B000LQOCH0   ABXLMWJIXXAIN  Natalia Corres \"Natalia Corres\"   \n",
       "3   4  B000UA0QIQ  A395BORC6FGVXV                             Karl   \n",
       "4   5  B006K2ZZ7K  A1UQRSCLF8GW1T    Michael D. Bigham \"M. Wassir\"   \n",
       "\n",
       "   HelpfulnessNumerator  HelpfulnessDenominator  Score        Time  \\\n",
       "0                     1                       1      5  1303862400   \n",
       "1                     0                       0      1  1346976000   \n",
       "2                     1                       1      4  1219017600   \n",
       "3                     3                       3      2  1307923200   \n",
       "4                     0                       0      5  1350777600   \n",
       "\n",
       "                 Summary                                               Text  \n",
       "0  Good Quality Dog Food  I have bought several of the Vitality canned d...  \n",
       "1      Not as Advertised  Product arrived labeled as Jumbo Salted Peanut...  \n",
       "2  \"Delight\" says it all  This is a confection that has been around a fe...  \n",
       "3         Cough Medicine  If you are looking for the secret ingredient i...  \n",
       "4            Great taffy  Great taffy at a great price.  There was a wid...  "
      ]
     },
     "execution_count": 4,
     "metadata": {},
     "output_type": "execute_result"
    }
   ],
   "source": [
    "df=df.head(500)\n",
    "print(df.shape)\n",
    "## It will only have 500 Rows \n",
    "df.head(5)"
   ]
  },
  {
   "cell_type": "markdown",
   "id": "a380b0c1",
   "metadata": {
    "papermill": {
     "duration": 0.004562,
     "end_time": "2025-01-22T09:48:51.480934",
     "exception": false,
     "start_time": "2025-01-22T09:48:51.476372",
     "status": "completed"
    },
    "tags": []
   },
   "source": [
    "## Bar Chart Representation "
   ]
  },
  {
   "cell_type": "code",
   "execution_count": 5,
   "id": "e428e616",
   "metadata": {
    "execution": {
     "iopub.execute_input": "2025-01-22T09:48:51.491876Z",
     "iopub.status.busy": "2025-01-22T09:48:51.491513Z",
     "iopub.status.idle": "2025-01-22T09:48:51.883134Z",
     "shell.execute_reply": "2025-01-22T09:48:51.882063Z"
    },
    "papermill": {
     "duration": 0.399173,
     "end_time": "2025-01-22T09:48:51.885052",
     "exception": false,
     "start_time": "2025-01-22T09:48:51.485879",
     "status": "completed"
    },
    "tags": []
   },
   "outputs": [
    {
     "data": {
      "text/plain": [
       "Text(0.5, 0, 'Review Stars ')"
      ]
     },
     "execution_count": 5,
     "metadata": {},
     "output_type": "execute_result"
    },
    {
     "data": {
      "image/png": "[encoded data removed]",
      "text/plain": [
       "<Figure size 1000x500 with 1 Axes>"
      ]
     },
     "metadata": {},
     "output_type": "display_data"
    }
   ],
   "source": [
    "ax=df['Score'].value_counts().sort_index().plot(kind ='bar',title='Count Of Reviews ',figsize=(10,5))\n",
    "\n",
    "ax.set_xlabel('Review Stars ')\n"
   ]
  },
  {
   "cell_type": "markdown",
   "id": "d030fd48",
   "metadata": {
    "papermill": {
     "duration": 0.005445,
     "end_time": "2025-01-22T09:48:51.896094",
     "exception": false,
     "start_time": "2025-01-22T09:48:51.890649",
     "status": "completed"
    },
    "tags": []
   },
   "source": [
    "## BASIC Natural Language Toolkit\n",
    "\n"
   ]
  },
  {
   "cell_type": "code",
   "execution_count": 6,
   "id": "c91070ad",
   "metadata": {
    "execution": {
     "iopub.execute_input": "2025-01-22T09:48:51.908507Z",
     "iopub.status.busy": "2025-01-22T09:48:51.908158Z",
     "iopub.status.idle": "2025-01-22T09:48:51.913526Z",
     "shell.execute_reply": "2025-01-22T09:48:51.912224Z"
    },
    "papermill": {
     "duration": 0.013608,
     "end_time": "2025-01-22T09:48:51.915274",
     "exception": false,
     "start_time": "2025-01-22T09:48:51.901666",
     "status": "completed"
    },
    "tags": []
   },
   "outputs": [
    {
     "name": "stdout",
     "output_type": "stream",
     "text": [
      "This oatmeal is not good. Its mushy, soft, I don't like it. Quaker Oats is the way to go.\n"
     ]
    }
   ],
   "source": [
    "example =df['Text'][50]\n",
    "print(example)\n"
   ]
  },
  {
   "cell_type": "code",
   "execution_count": 7,
   "id": "f5e23a3c",
   "metadata": {
    "execution": {
     "iopub.execute_input": "2025-01-22T09:48:51.927923Z",
     "iopub.status.busy": "2025-01-22T09:48:51.927542Z",
     "iopub.status.idle": "2025-01-22T09:48:51.947461Z",
     "shell.execute_reply": "2025-01-22T09:48:51.946471Z"
    },
    "papermill": {
     "duration": 0.028278,
     "end_time": "2025-01-22T09:48:51.949325",
     "exception": false,
     "start_time": "2025-01-22T09:48:51.921047",
     "status": "completed"
    },
    "tags": []
   },
   "outputs": [
    {
     "data": {
      "text/plain": [
       "['This', 'oatmeal', 'is', 'not', 'good', '.', 'Its', 'mushy', ',', 'soft']"
      ]
     },
     "execution_count": 7,
     "metadata": {},
     "output_type": "execute_result"
    }
   ],
   "source": [
    "tokens =nltk.word_tokenize(example)\n",
    "tokens[:10]"
   ]
  },
  {
   "cell_type": "code",
   "execution_count": 8,
   "id": "f702ad52",
   "metadata": {
    "execution": {
     "iopub.execute_input": "2025-01-22T09:48:51.961839Z",
     "iopub.status.busy": "2025-01-22T09:48:51.961477Z",
     "iopub.status.idle": "2025-01-22T09:48:52.091507Z",
     "shell.execute_reply": "2025-01-22T09:48:52.090433Z"
    },
    "papermill": {
     "duration": 0.13819,
     "end_time": "2025-01-22T09:48:52.093298",
     "exception": false,
     "start_time": "2025-01-22T09:48:51.955108",
     "status": "completed"
    },
    "tags": []
   },
   "outputs": [
    {
     "data": {
      "text/plain": [
       "[('This', 'DT'),\n",
       " ('oatmeal', 'NN'),\n",
       " ('is', 'VBZ'),\n",
       " ('not', 'RB'),\n",
       " ('good', 'JJ'),\n",
       " ('.', '.'),\n",
       " ('Its', 'PRP$'),\n",
       " ('mushy', 'NN'),\n",
       " (',', ','),\n",
       " ('soft', 'JJ')]"
      ]
     },
     "execution_count": 8,
     "metadata": {},
     "output_type": "execute_result"
    }
   ],
   "source": [
    "nltk.pos_tag(tokens[:10])\n",
    "## We have taken a dataset where we will see the Human Behavior and respond to each product that he receives \n",
    "## Either It Can be Positive Or Negative or Neutral \n",
    "\n",
    "\n"
   ]
  },
  {
   "cell_type": "markdown",
   "id": "9cfc3d36",
   "metadata": {
    "papermill": {
     "duration": 0.005705,
     "end_time": "2025-01-22T09:48:52.104848",
     "exception": false,
     "start_time": "2025-01-22T09:48:52.099143",
     "status": "completed"
    },
    "tags": []
   },
   "source": [
    "## Step 1 Vader Sentiment Analyzer \n",
    "we will use the SentimentIntensityAnalyzer to get the Negative/Positive/Neutral Scores of the Text.\n",
    ". This uses a \"bag of word approach\":\n",
    "1. Stops Words are removed\n",
    "2. each word is scored and combined to a Total scored\n",
    "   "
   ]
  },
  {
   "cell_type": "code",
   "execution_count": 9,
   "id": "6c4372c9",
   "metadata": {
    "execution": {
     "iopub.execute_input": "2025-01-22T09:48:52.119600Z",
     "iopub.status.busy": "2025-01-22T09:48:52.119261Z",
     "iopub.status.idle": "2025-01-22T09:48:52.171970Z",
     "shell.execute_reply": "2025-01-22T09:48:52.170841Z"
    },
    "papermill": {
     "duration": 0.062816,
     "end_time": "2025-01-22T09:48:52.173767",
     "exception": false,
     "start_time": "2025-01-22T09:48:52.110951",
     "status": "completed"
    },
    "tags": []
   },
   "outputs": [
    {
     "name": "stderr",
     "output_type": "stream",
     "text": [
      "/usr/local/lib/python3.10/dist-packages/nltk/twitter/__init__.py:20: UserWarning: The twython library has not been installed. Some functionality from the twitter package will not be available.\n",
      "  warnings.warn(\"The twython library has not been installed. \"\n"
     ]
    },
    {
     "data": {
      "text/plain": [
       "{'neg': 0.0, 'neu': 0.265, 'pos': 0.735, 'compound': 0.9022}"
      ]
     },
     "execution_count": 9,
     "metadata": {},
     "output_type": "execute_result"
    }
   ],
   "source": [
    "from nltk.sentiment import SentimentIntensityAnalyzer\n",
    "from tqdm.notebook import tqdm\n",
    "\n",
    "sia=SentimentIntensityAnalyzer()\n",
    "\n",
    "sia.polarity_scores('I will be Successful and Rich and Happy')"
   ]
  },
  {
   "cell_type": "code",
   "execution_count": 10,
   "id": "8504febc",
   "metadata": {
    "execution": {
     "iopub.execute_input": "2025-01-22T09:48:52.186967Z",
     "iopub.status.busy": "2025-01-22T09:48:52.186597Z",
     "iopub.status.idle": "2025-01-22T09:48:52.656910Z",
     "shell.execute_reply": "2025-01-22T09:48:52.655839Z"
    },
    "papermill": {
     "duration": 0.48038,
     "end_time": "2025-01-22T09:48:52.660195",
     "exception": false,
     "start_time": "2025-01-22T09:48:52.179815",
     "status": "completed"
    },
    "tags": []
   },
   "outputs": [
    {
     "data": {
      "application/vnd.jupyter.widget-view+json": {
       "model_id": "7f1d8e3e52a045789c3cd83c8084e2c9",
       "version_major": 2,
       "version_minor": 0
      },
      "text/plain": [
       "  0%|          | 0/500 [00:00<?, ?it/s]"
      ]
     },
     "metadata": {},
     "output_type": "display_data"
    },
    {
     "name": "stdout",
     "output_type": "stream",
     "text": [
      "{1: {'neg': 0.0, 'neu': 0.695, 'pos': 0.305, 'compound': 0.9441}, 2: {'neg': 0.079, 'neu': 0.853, 'pos': 0.068, 'compound': -0.1027}, 3: {'neg': 0.091, 'neu': 0.754, 'pos': 0.155, 'compound': 0.8265}, 4: {'neg': 0.0, 'neu': 1.0, 'pos': 0.0, 'compound': 0.0}, 5: {'neg': 0.0, 'neu': 0.552, 'pos': 0.448, 'compound': 0.9468}, 6: {'neg': 0.029, 'neu': 0.809, 'pos': 0.163, 'compound': 0.883}, 7: {'neg': 0.034, 'neu': 0.693, 'pos': 0.273, 'compound': 0.9346}, 8: {'neg': 0.0, 'neu': 0.52, 'pos': 0.48, 'compound': 0.9487}, 9: {'neg': 0.0, 'neu': 0.851, 'pos': 0.149, 'compound': 0.6369}, 10: {'neg': 0.0, 'neu': 0.705, 'pos': 0.295, 'compound': 0.8313}, 11: {'neg': 0.017, 'neu': 0.846, 'pos': 0.137, 'compound': 0.9746}, 12: {'neg': 0.113, 'neu': 0.887, 'pos': 0.0, 'compound': -0.7579}, 13: {'neg': 0.031, 'neu': 0.923, 'pos': 0.046, 'compound': 0.296}, 14: {'neg': 0.0, 'neu': 0.355, 'pos': 0.645, 'compound': 0.9466}, 15: {'neg': 0.104, 'neu': 0.632, 'pos': 0.264, 'compound': 0.6486}, 16: {'neg': 0.0, 'neu': 0.861, 'pos': 0.139, 'compound': 0.5719}, 17: {'neg': 0.097, 'neu': 0.694, 'pos': 0.209, 'compound': 0.7481}, 18: {'neg': 0.0, 'neu': 0.61, 'pos': 0.39, 'compound': 0.8883}, 19: {'neg': 0.012, 'neu': 0.885, 'pos': 0.103, 'compound': 0.8957}, 20: {'neg': 0.0, 'neu': 0.863, 'pos': 0.137, 'compound': 0.6077}, 21: {'neg': 0.0, 'neu': 0.865, 'pos': 0.135, 'compound': 0.6249}, 22: {'neg': 0.0, 'neu': 0.739, 'pos': 0.261, 'compound': 0.9153}, 23: {'neg': 0.0, 'neu': 0.768, 'pos': 0.232, 'compound': 0.7687}, 24: {'neg': 0.085, 'neu': 0.771, 'pos': 0.143, 'compound': 0.2617}, 25: {'neg': 0.038, 'neu': 0.895, 'pos': 0.068, 'compound': 0.3939}, 26: {'neg': 0.0, 'neu': 1.0, 'pos': 0.0, 'compound': 0.0}, 27: {'neg': 0.128, 'neu': 0.872, 'pos': 0.0, 'compound': -0.296}, 28: {'neg': 0.04, 'neu': 0.808, 'pos': 0.152, 'compound': 0.5956}, 29: {'neg': 0.022, 'neu': 0.669, 'pos': 0.309, 'compound': 0.9913}, 30: {'neg': 0.017, 'neu': 0.846, 'pos': 0.137, 'compound': 0.9746}, 31: {'neg': 0.041, 'neu': 0.692, 'pos': 0.267, 'compound': 0.9713}, 32: {'neg': 0.0, 'neu': 0.484, 'pos': 0.516, 'compound': 0.9153}, 33: {'neg': 0.069, 'neu': 0.839, 'pos': 0.092, 'compound': 0.7103}, 34: {'neg': 0.024, 'neu': 0.72, 'pos': 0.256, 'compound': 0.9779}, 35: {'neg': 0.0, 'neu': 0.874, 'pos': 0.126, 'compound': 0.9091}, 36: {'neg': 0.024, 'neu': 0.821, 'pos': 0.155, 'compound': 0.7622}, 37: {'neg': 0.0, 'neu': 0.754, 'pos': 0.246, 'compound': 0.9196}, 38: {'neg': 0.0, 'neu': 0.938, 'pos': 0.062, 'compound': 0.4457}, 39: {'neg': 0.028, 'neu': 0.842, 'pos': 0.13, 'compound': 0.891}, 40: {'neg': 0.0, 'neu': 0.856, 'pos': 0.144, 'compound': 0.8114}, 41: {'neg': 0.033, 'neu': 0.82, 'pos': 0.147, 'compound': 0.9301}, 42: {'neg': 0.03, 'neu': 0.848, 'pos': 0.122, 'compound': 0.9435}, 43: {'neg': 0.0, 'neu': 0.588, 'pos': 0.412, 'compound': 0.9441}, 44: {'neg': 0.0, 'neu': 0.685, 'pos': 0.315, 'compound': 0.9161}, 45: {'neg': 0.031, 'neu': 0.778, 'pos': 0.191, 'compound': 0.8421}, 46: {'neg': 0.0, 'neu': 1.0, 'pos': 0.0, 'compound': 0.0}, 47: {'neg': 0.0, 'neu': 0.737, 'pos': 0.263, 'compound': 0.9169}, 48: {'neg': 0.0, 'neu': 0.868, 'pos': 0.132, 'compound': 0.4404}, 49: {'neg': 0.0, 'neu': 0.821, 'pos': 0.179, 'compound': 0.747}, 50: {'neg': 0.056, 'neu': 0.865, 'pos': 0.079, 'compound': 0.2363}, 51: {'neg': 0.22, 'neu': 0.78, 'pos': 0.0, 'compound': -0.5448}, 52: {'neg': 0.047, 'neu': 0.735, 'pos': 0.218, 'compound': 0.9194}, 53: {'neg': 0.09, 'neu': 0.858, 'pos': 0.052, 'compound': -0.8259}, 54: {'neg': 0.075, 'neu': 0.925, 'pos': 0.0, 'compound': -0.3612}, 55: {'neg': 0.0, 'neu': 0.857, 'pos': 0.143, 'compound': 0.8761}, 56: {'neg': 0.071, 'neu': 0.708, 'pos': 0.221, 'compound': 0.8908}, 57: {'neg': 0.029, 'neu': 0.694, 'pos': 0.277, 'compound': 0.908}, 58: {'neg': 0.0, 'neu': 0.701, 'pos': 0.299, 'compound': 0.91}, 59: {'neg': 0.0, 'neu': 0.611, 'pos': 0.389, 'compound': 0.9323}, 60: {'neg': 0.0, 'neu': 0.638, 'pos': 0.362, 'compound': 0.8807}, 61: {'neg': 0.0, 'neu': 0.9, 'pos': 0.1, 'compound': 0.4404}, 62: {'neg': 0.0, 'neu': 0.741, 'pos': 0.259, 'compound': 0.8442}, 63: {'neg': 0.0, 'neu': 1.0, 'pos': 0.0, 'compound': 0.0}, 64: {'neg': 0.055, 'neu': 0.765, 'pos': 0.179, 'compound': 0.9817}, 65: {'neg': 0.046, 'neu': 0.75, 'pos': 0.205, 'compound': 0.8674}, 66: {'neg': 0.04, 'neu': 0.822, 'pos': 0.138, 'compound': 0.5165}, 67: {'neg': 0.057, 'neu': 0.869, 'pos': 0.073, 'compound': 0.492}, 68: {'neg': 0.183, 'neu': 0.776, 'pos': 0.041, 'compound': -0.9116}, 69: {'neg': 0.141, 'neu': 0.653, 'pos': 0.207, 'compound': 0.5171}, 70: {'neg': 0.344, 'neu': 0.52, 'pos': 0.136, 'compound': -0.7345}, 71: {'neg': 0.036, 'neu': 0.916, 'pos': 0.048, 'compound': 0.2228}, 72: {'neg': 0.078, 'neu': 0.706, 'pos': 0.216, 'compound': 0.9695}, 73: {'neg': 0.025, 'neu': 0.653, 'pos': 0.323, 'compound': 0.9787}, 74: {'neg': 0.093, 'neu': 0.762, 'pos': 0.144, 'compound': 0.9665}, 75: {'neg': 0.0, 'neu': 0.872, 'pos': 0.128, 'compound': 0.2263}, 76: {'neg': 0.106, 'neu': 0.768, 'pos': 0.126, 'compound': 0.1098}, 77: {'neg': 0.019, 'neu': 0.898, 'pos': 0.083, 'compound': 0.5647}, 78: {'neg': 0.034, 'neu': 0.798, 'pos': 0.168, 'compound': 0.8303}, 79: {'neg': 0.0, 'neu': 0.763, 'pos': 0.237, 'compound': 0.7814}, 80: {'neg': 0.087, 'neu': 0.589, 'pos': 0.324, 'compound': 0.8636}, 81: {'neg': 0.0, 'neu': 0.723, 'pos': 0.277, 'compound': 0.9098}, 82: {'neg': 0.0, 'neu': 0.663, 'pos': 0.337, 'compound': 0.9041}, 83: {'neg': 0.04, 'neu': 0.794, 'pos': 0.165, 'compound': 0.9957}, 84: {'neg': 0.055, 'neu': 0.767, 'pos': 0.178, 'compound': 0.8642}, 85: {'neg': 0.109, 'neu': 0.676, 'pos': 0.214, 'compound': 0.8431}, 86: {'neg': 0.035, 'neu': 0.698, 'pos': 0.267, 'compound': 0.9487}, 87: {'neg': 0.019, 'neu': 0.855, 'pos': 0.126, 'compound': 0.8797}, 88: {'neg': 0.05, 'neu': 0.735, 'pos': 0.215, 'compound': 0.7424}, 89: {'neg': 0.048, 'neu': 0.762, 'pos': 0.19, 'compound': 0.9716}, 90: {'neg': 0.029, 'neu': 0.645, 'pos': 0.326, 'compound': 0.9554}, 91: {'neg': 0.0, 'neu': 0.833, 'pos': 0.167, 'compound': 0.7351}, 92: {'neg': 0.0, 'neu': 0.837, 'pos': 0.163, 'compound': 0.6249}, 93: {'neg': 0.069, 'neu': 0.663, 'pos': 0.268, 'compound': 0.8255}, 94: {'neg': 0.01, 'neu': 0.781, 'pos': 0.208, 'compound': 0.9882}, 95: {'neg': 0.0, 'neu': 1.0, 'pos': 0.0, 'compound': 0.0}, 96: {'neg': 0.031, 'neu': 0.732, 'pos': 0.237, 'compound': 0.9273}, 97: {'neg': 0.0, 'neu': 0.818, 'pos': 0.182, 'compound': 0.982}, 98: {'neg': 0.053, 'neu': 0.793, 'pos': 0.154, 'compound': 0.7729}, 99: {'neg': 0.024, 'neu': 0.91, 'pos': 0.066, 'compound': 0.5106}, 100: {'neg': 0.173, 'neu': 0.735, 'pos': 0.092, 'compound': -0.5267}, 101: {'neg': 0.0, 'neu': 0.807, 'pos': 0.193, 'compound': 0.7717}, 102: {'neg': 0.103, 'neu': 0.752, 'pos': 0.145, 'compound': 0.2285}, 103: {'neg': 0.0, 'neu': 0.75, 'pos': 0.25, 'compound': 0.9287}, 104: {'neg': 0.0, 'neu': 0.859, 'pos': 0.141, 'compound': 0.7249}, 105: {'neg': 0.051, 'neu': 0.577, 'pos': 0.372, 'compound': 0.9313}, 106: {'neg': 0.0, 'neu': 0.696, 'pos': 0.304, 'compound': 0.9603}, 107: {'neg': 0.0, 'neu': 0.791, 'pos': 0.209, 'compound': 0.5719}, 108: {'neg': 0.0, 'neu': 0.804, 'pos': 0.196, 'compound': 0.9503}, 109: {'neg': 0.059, 'neu': 0.676, 'pos': 0.265, 'compound': 0.9116}, 110: {'neg': 0.014, 'neu': 0.764, 'pos': 0.222, 'compound': 0.9841}, 111: {'neg': 0.059, 'neu': 0.879, 'pos': 0.062, 'compound': 0.0176}, 112: {'neg': 0.0, 'neu': 0.81, 'pos': 0.19, 'compound': 0.8769}, 113: {'neg': 0.03, 'neu': 0.846, 'pos': 0.125, 'compound': 0.9783}, 114: {'neg': 0.0, 'neu': 0.631, 'pos': 0.369, 'compound': 0.8779}, 115: {'neg': 0.027, 'neu': 0.727, 'pos': 0.245, 'compound': 0.9379}, 116: {'neg': 0.0, 'neu': 0.645, 'pos': 0.355, 'compound': 0.872}, 117: {'neg': 0.0, 'neu': 0.892, 'pos': 0.108, 'compound': 0.6573}, 118: {'neg': 0.0, 'neu': 0.781, 'pos': 0.219, 'compound': 0.9751}, 119: {'neg': 0.048, 'neu': 0.873, 'pos': 0.079, 'compound': 0.9094}, 120: {'neg': 0.013, 'neu': 0.785, 'pos': 0.203, 'compound': 0.9828}, 121: {'neg': 0.026, 'neu': 0.759, 'pos': 0.215, 'compound': 0.9509}, 122: {'neg': 0.102, 'neu': 0.822, 'pos': 0.076, 'compound': -0.3626}, 123: {'neg': 0.025, 'neu': 0.803, 'pos': 0.172, 'compound': 0.9022}, 124: {'neg': 0.017, 'neu': 0.795, 'pos': 0.188, 'compound': 0.9769}, 125: {'neg': 0.079, 'neu': 0.67, 'pos': 0.252, 'compound': 0.9678}, 126: {'neg': 0.035, 'neu': 0.87, 'pos': 0.095, 'compound': 0.5709}, 127: {'neg': 0.0, 'neu': 0.721, 'pos': 0.279, 'compound': 0.9258}, 128: {'neg': 0.067, 'neu': 0.633, 'pos': 0.299, 'compound': 0.9022}, 129: {'neg': 0.043, 'neu': 0.728, 'pos': 0.229, 'compound': 0.8142}, 130: {'neg': 0.071, 'neu': 0.67, 'pos': 0.259, 'compound': 0.8723}, 131: {'neg': 0.0, 'neu': 0.755, 'pos': 0.245, 'compound': 0.8658}, 132: {'neg': 0.135, 'neu': 0.76, 'pos': 0.105, 'compound': -0.3612}, 133: {'neg': 0.046, 'neu': 0.772, 'pos': 0.181, 'compound': 0.7902}, 134: {'neg': 0.02, 'neu': 0.878, 'pos': 0.103, 'compound': 0.8082}, 135: {'neg': 0.0, 'neu': 0.877, 'pos': 0.123, 'compound': 0.4215}, 136: {'neg': 0.0, 'neu': 0.9, 'pos': 0.1, 'compound': 0.6503}, 137: {'neg': 0.0, 'neu': 0.695, 'pos': 0.305, 'compound': 0.9661}, 138: {'neg': 0.0, 'neu': 0.689, 'pos': 0.311, 'compound': 0.8591}, 139: {'neg': 0.15, 'neu': 0.773, 'pos': 0.077, 'compound': -0.4199}, 140: {'neg': 0.043, 'neu': 0.833, 'pos': 0.125, 'compound': 0.835}, 141: {'neg': 0.098, 'neu': 0.787, 'pos': 0.114, 'compound': 0.2023}, 142: {'neg': 0.0, 'neu': 0.782, 'pos': 0.218, 'compound': 0.7814}, 143: {'neg': 0.0, 'neu': 0.763, 'pos': 0.237, 'compound': 0.9296}, 144: {'neg': 0.059, 'neu': 0.667, 'pos': 0.274, 'compound': 0.9653}, 145: {'neg': 0.058, 'neu': 0.841, 'pos': 0.102, 'compound': 0.6124}, 146: {'neg': 0.144, 'neu': 0.677, 'pos': 0.178, 'compound': 0.6341}, 147: {'neg': 0.087, 'neu': 0.783, 'pos': 0.13, 'compound': 0.7567}, 148: {'neg': 0.058, 'neu': 0.867, 'pos': 0.075, 'compound': 0.1533}, 149: {'neg': 0.058, 'neu': 0.848, 'pos': 0.094, 'compound': 0.3639}, 150: {'neg': 0.0, 'neu': 0.709, 'pos': 0.291, 'compound': 0.9231}, 151: {'neg': 0.0, 'neu': 0.564, 'pos': 0.436, 'compound': 0.9858}, 152: {'neg': 0.0, 'neu': 0.784, 'pos': 0.216, 'compound': 0.765}, 153: {'neg': 0.0, 'neu': 0.775, 'pos': 0.225, 'compound': 0.7269}, 154: {'neg': 0.12, 'neu': 0.76, 'pos': 0.12, 'compound': 0.2502}, 155: {'neg': 0.0, 'neu': 0.647, 'pos': 0.353, 'compound': 0.9803}, 156: {'neg': 0.0, 'neu': 0.768, 'pos': 0.232, 'compound': 0.9681}, 157: {'neg': 0.191, 'neu': 0.809, 'pos': 0.0, 'compound': -0.7269}, 158: {'neg': 0.071, 'neu': 0.514, 'pos': 0.415, 'compound': 0.8934}, 159: {'neg': 0.065, 'neu': 0.893, 'pos': 0.042, 'compound': -0.4721}, 160: {'neg': 0.081, 'neu': 0.779, 'pos': 0.14, 'compound': 0.4194}, 161: {'neg': 0.0, 'neu': 0.644, 'pos': 0.356, 'compound': 0.9117}, 162: {'neg': 0.106, 'neu': 0.894, 'pos': 0.0, 'compound': -0.5504}, 163: {'neg': 0.072, 'neu': 0.652, 'pos': 0.276, 'compound': 0.9517}, 164: {'neg': 0.047, 'neu': 0.869, 'pos': 0.085, 'compound': 0.4199}, 165: {'neg': 0.025, 'neu': 0.752, 'pos': 0.223, 'compound': 0.8957}, 166: {'neg': 0.032, 'neu': 0.717, 'pos': 0.251, 'compound': 0.9597}, 167: {'neg': 0.0, 'neu': 0.657, 'pos': 0.343, 'compound': 0.9098}, 168: {'neg': 0.05, 'neu': 0.905, 'pos': 0.045, 'compound': -0.1154}, 169: {'neg': 0.186, 'neu': 0.74, 'pos': 0.074, 'compound': -0.5283}, 170: {'neg': 0.141, 'neu': 0.832, 'pos': 0.028, 'compound': -0.7721}, 171: {'neg': 0.0, 'neu': 0.854, 'pos': 0.146, 'compound': 0.6476}, 172: {'neg': 0.04, 'neu': 0.844, 'pos': 0.116, 'compound': 0.6808}, 173: {'neg': 0.0, 'neu': 0.763, 'pos': 0.237, 'compound': 0.8906}, 174: {'neg': 0.022, 'neu': 0.788, 'pos': 0.189, 'compound': 0.9901}, 175: {'neg': 0.04, 'neu': 0.722, 'pos': 0.237, 'compound': 0.9782}, 176: {'neg': 0.0, 'neu': 0.874, 'pos': 0.126, 'compound': 0.7579}, 177: {'neg': 0.0, 'neu': 0.938, 'pos': 0.062, 'compound': 0.4215}, 178: {'neg': 0.058, 'neu': 0.794, 'pos': 0.148, 'compound': 0.6249}, 179: {'neg': 0.2, 'neu': 0.63, 'pos': 0.171, 'compound': 0.1203}, 180: {'neg': 0.048, 'neu': 0.829, 'pos': 0.122, 'compound': 0.7458}, 181: {'neg': 0.076, 'neu': 0.767, 'pos': 0.156, 'compound': 0.6085}, 182: {'neg': 0.0, 'neu': 0.433, 'pos': 0.567, 'compound': 0.9667}, 183: {'neg': 0.088, 'neu': 0.743, 'pos': 0.169, 'compound': 0.943}, 184: {'neg': 0.0, 'neu': 0.857, 'pos': 0.143, 'compound': 0.9577}, 185: {'neg': 0.11, 'neu': 0.593, 'pos': 0.297, 'compound': 0.6597}, 186: {'neg': 0.189, 'neu': 0.811, 'pos': 0.0, 'compound': -0.5994}, 187: {'neg': 0.016, 'neu': 0.847, 'pos': 0.137, 'compound': 0.9936}, 188: {'neg': 0.0, 'neu': 0.824, 'pos': 0.176, 'compound': 0.6983}, 189: {'neg': 0.0, 'neu': 0.843, 'pos': 0.157, 'compound': 0.8868}, 190: {'neg': 0.0, 'neu': 0.934, 'pos': 0.066, 'compound': 0.3506}, 191: {'neg': 0.148, 'neu': 0.64, 'pos': 0.212, 'compound': 0.4926}, 192: {'neg': 0.0, 'neu': 0.75, 'pos': 0.25, 'compound': 0.9062}, 193: {'neg': 0.074, 'neu': 0.7, 'pos': 0.226, 'compound': 0.8679}, 194: {'neg': 0.031, 'neu': 0.735, 'pos': 0.234, 'compound': 0.9595}, 195: {'neg': 0.082, 'neu': 0.483, 'pos': 0.435, 'compound': 0.8299}, 196: {'neg': 0.0, 'neu': 0.761, 'pos': 0.239, 'compound': 0.9538}, 197: {'neg': 0.0, 'neu': 0.917, 'pos': 0.083, 'compound': 0.4738}, 198: {'neg': 0.0, 'neu': 0.904, 'pos': 0.096, 'compound': 0.4153}, 199: {'neg': 0.0, 'neu': 0.701, 'pos': 0.299, 'compound': 0.8268}, 200: {'neg': 0.0, 'neu': 0.811, 'pos': 0.189, 'compound': 0.7178}, 201: {'neg': 0.039, 'neu': 0.888, 'pos': 0.072, 'compound': 0.6381}, 202: {'neg': 0.064, 'neu': 0.597, 'pos': 0.339, 'compound': 0.9531}, 203: {'neg': 0.0, 'neu': 0.688, 'pos': 0.312, 'compound': 0.8225}, 204: {'neg': 0.061, 'neu': 0.814, 'pos': 0.125, 'compound': 0.8728}, 205: {'neg': 0.0, 'neu': 0.882, 'pos': 0.118, 'compound': 0.6249}, 206: {'neg': 0.0, 'neu': 0.754, 'pos': 0.246, 'compound': 0.9368}, 207: {'neg': 0.0, 'neu': 0.59, 'pos': 0.41, 'compound': 0.8779}, 208: {'neg': 0.051, 'neu': 0.8, 'pos': 0.15, 'compound': 0.8436}, 209: {'neg': 0.05, 'neu': 0.82, 'pos': 0.13, 'compound': 0.8913}, 210: {'neg': 0.045, 'neu': 0.761, 'pos': 0.194, 'compound': 0.9893}, 211: {'neg': 0.075, 'neu': 0.755, 'pos': 0.171, 'compound': 0.9218}, 212: {'neg': 0.051, 'neu': 0.821, 'pos': 0.129, 'compound': 0.9529}, 213: {'neg': 0.051, 'neu': 0.838, 'pos': 0.11, 'compound': 0.4404}, 214: {'neg': 0.095, 'neu': 0.883, 'pos': 0.022, 'compound': -0.9726}, 215: {'neg': 0.0, 'neu': 0.891, 'pos': 0.109, 'compound': 0.6476}, 216: {'neg': 0.0, 'neu': 0.798, 'pos': 0.202, 'compound': 0.7964}, 217: {'neg': 0.078, 'neu': 0.922, 'pos': 0.0, 'compound': -0.296}, 218: {'neg': 0.015, 'neu': 0.884, 'pos': 0.101, 'compound': 0.9736}, 219: {'neg': 0.059, 'neu': 0.774, 'pos': 0.167, 'compound': 0.9424}, 220: {'neg': 0.031, 'neu': 0.702, 'pos': 0.267, 'compound': 0.9812}, 221: {'neg': 0.027, 'neu': 0.909, 'pos': 0.064, 'compound': 0.25}, 222: {'neg': 0.039, 'neu': 0.663, 'pos': 0.298, 'compound': 0.9924}, 223: {'neg': 0.0, 'neu': 0.779, 'pos': 0.221, 'compound': 0.9623}, 224: {'neg': 0.0, 'neu': 0.607, 'pos': 0.393, 'compound': 0.923}, 225: {'neg': 0.152, 'neu': 0.739, 'pos': 0.109, 'compound': -0.25}, 226: {'neg': 0.064, 'neu': 0.794, 'pos': 0.141, 'compound': 0.7951}, 227: {'neg': 0.139, 'neu': 0.754, 'pos': 0.108, 'compound': -0.3774}, 228: {'neg': 0.106, 'neu': 0.718, 'pos': 0.176, 'compound': 0.5475}, 229: {'neg': 0.0, 'neu': 0.873, 'pos': 0.127, 'compound': 0.4939}, 230: {'neg': 0.025, 'neu': 0.854, 'pos': 0.121, 'compound': 0.6478}, 231: {'neg': 0.03, 'neu': 0.726, 'pos': 0.244, 'compound': 0.9281}, 232: {'neg': 0.0, 'neu': 0.904, 'pos': 0.096, 'compound': 0.8144}, 233: {'neg': 0.0, 'neu': 0.807, 'pos': 0.193, 'compound': 0.8126}, 234: {'neg': 0.103, 'neu': 0.729, 'pos': 0.169, 'compound': 0.2481}, 235: {'neg': 0.0, 'neu': 0.805, 'pos': 0.195, 'compound': 0.8655}, 236: {'neg': 0.11, 'neu': 0.792, 'pos': 0.098, 'compound': -0.4786}, 237: {'neg': 0.041, 'neu': 0.793, 'pos': 0.166, 'compound': 0.9387}, 238: {'neg': 0.029, 'neu': 0.798, 'pos': 0.174, 'compound': 0.9936}, 239: {'neg': 0.064, 'neu': 0.7, 'pos': 0.236, 'compound': 0.9677}, 240: {'neg': 0.0, 'neu': 0.72, 'pos': 0.28, 'compound': 0.765}, 241: {'neg': 0.066, 'neu': 0.71, 'pos': 0.223, 'compound': 0.9553}, 242: {'neg': 0.0, 'neu': 0.765, 'pos': 0.235, 'compound': 0.807}, 243: {'neg': 0.0, 'neu': 0.76, 'pos': 0.24, 'compound': 0.9344}, 244: {'neg': 0.0, 'neu': 1.0, 'pos': 0.0, 'compound': 0.0}, 245: {'neg': 0.081, 'neu': 0.63, 'pos': 0.289, 'compound': 0.765}, 246: {'neg': 0.072, 'neu': 0.825, 'pos': 0.103, 'compound': 0.682}, 247: {'neg': 0.075, 'neu': 0.633, 'pos': 0.292, 'compound': 0.9757}, 248: {'neg': 0.0, 'neu': 0.869, 'pos': 0.131, 'compound': 0.7717}, 249: {'neg': 0.0, 'neu': 0.602, 'pos': 0.398, 'compound': 0.9351}, 250: {'neg': 0.0, 'neu': 0.75, 'pos': 0.25, 'compound': 0.7184}, 251: {'neg': 0.047, 'neu': 0.781, 'pos': 0.172, 'compound': 0.9476}, 252: {'neg': 0.076, 'neu': 0.924, 'pos': 0.0, 'compound': -0.4823}, 253: {'neg': 0.107, 'neu': 0.893, 'pos': 0.0, 'compound': -0.4767}, 254: {'neg': 0.0, 'neu': 0.801, 'pos': 0.199, 'compound': 0.9698}, 255: {'neg': 0.091, 'neu': 0.736, 'pos': 0.172, 'compound': 0.4118}, 256: {'neg': 0.103, 'neu': 0.699, 'pos': 0.198, 'compound': 0.9805}, 257: {'neg': 0.034, 'neu': 0.664, 'pos': 0.302, 'compound': 0.9463}, 258: {'neg': 0.105, 'neu': 0.816, 'pos': 0.079, 'compound': -0.3489}, 259: {'neg': 0.04, 'neu': 0.841, 'pos': 0.119, 'compound': 0.8883}, 260: {'neg': 0.0, 'neu': 0.833, 'pos': 0.167, 'compound': 0.8824}, 261: {'neg': 0.0, 'neu': 0.613, 'pos': 0.387, 'compound': 0.9493}, 262: {'neg': 0.0, 'neu': 0.54, 'pos': 0.46, 'compound': 0.9153}, 263: {'neg': 0.106, 'neu': 0.706, 'pos': 0.188, 'compound': 0.5849}, 264: {'neg': 0.098, 'neu': 0.875, 'pos': 0.026, 'compound': -0.9218}, 265: {'neg': 0.051, 'neu': 0.802, 'pos': 0.147, 'compound': 0.872}, 266: {'neg': 0.0, 'neu': 0.619, 'pos': 0.381, 'compound': 0.902}, 267: {'neg': 0.0, 'neu': 0.862, 'pos': 0.138, 'compound': 0.4926}, 268: {'neg': 0.062, 'neu': 0.911, 'pos': 0.028, 'compound': -0.7067}, 269: {'neg': 0.0, 'neu': 0.767, 'pos': 0.233, 'compound': 0.8176}, 270: {'neg': 0.025, 'neu': 0.793, 'pos': 0.182, 'compound': 0.9509}, 271: {'neg': 0.0, 'neu': 0.839, 'pos': 0.161, 'compound': 0.5927}, 272: {'neg': 0.062, 'neu': 0.863, 'pos': 0.074, 'compound': 0.2609}, 273: {'neg': 0.052, 'neu': 0.817, 'pos': 0.132, 'compound': 0.7003}, 274: {'neg': 0.0, 'neu': 0.733, 'pos': 0.267, 'compound': 0.7346}, 275: {'neg': 0.037, 'neu': 0.693, 'pos': 0.271, 'compound': 0.9421}, 276: {'neg': 0.113, 'neu': 0.708, 'pos': 0.178, 'compound': 0.7749}, 277: {'neg': 0.0, 'neu': 0.523, 'pos': 0.477, 'compound': 0.9542}, 278: {'neg': 0.025, 'neu': 0.809, 'pos': 0.167, 'compound': 0.937}, 279: {'neg': 0.072, 'neu': 0.641, 'pos': 0.288, 'compound': 0.8565}, 280: {'neg': 0.066, 'neu': 0.859, 'pos': 0.075, 'compound': 0.1666}, 281: {'neg': 0.049, 'neu': 0.823, 'pos': 0.127, 'compound': 0.6438}, 282: {'neg': 0.0, 'neu': 0.754, 'pos': 0.246, 'compound': 0.8016}, 283: {'neg': 0.028, 'neu': 0.934, 'pos': 0.038, 'compound': 0.1779}, 284: {'neg': 0.032, 'neu': 0.792, 'pos': 0.176, 'compound': 0.9852}, 285: {'neg': 0.0, 'neu': 0.864, 'pos': 0.136, 'compound': 0.5255}, 286: {'neg': 0.0, 'neu': 0.898, 'pos': 0.102, 'compound': 0.7917}, 287: {'neg': 0.022, 'neu': 0.854, 'pos': 0.123, 'compound': 0.8807}, 288: {'neg': 0.035, 'neu': 0.801, 'pos': 0.163, 'compound': 0.9676}, 289: {'neg': 0.055, 'neu': 0.751, 'pos': 0.194, 'compound': 0.9475}, 290: {'neg': 0.039, 'neu': 0.697, 'pos': 0.264, 'compound': 0.8439}, 291: {'neg': 0.104, 'neu': 0.705, 'pos': 0.191, 'compound': 0.6257}, 292: {'neg': 0.052, 'neu': 0.745, 'pos': 0.203, 'compound': 0.9434}, 293: {'neg': 0.09, 'neu': 0.705, 'pos': 0.205, 'compound': 0.8636}, 294: {'neg': 0.034, 'neu': 0.757, 'pos': 0.209, 'compound': 0.9823}, 295: {'neg': 0.0, 'neu': 0.887, 'pos': 0.113, 'compound': 0.4939}, 296: {'neg': 0.12, 'neu': 0.781, 'pos': 0.099, 'compound': -0.7095}, 297: {'neg': 0.025, 'neu': 0.737, 'pos': 0.239, 'compound': 0.9566}, 298: {'neg': 0.0, 'neu': 0.811, 'pos': 0.189, 'compound': 0.8781}, 299: {'neg': 0.0, 'neu': 0.681, 'pos': 0.319, 'compound': 0.8934}, 300: {'neg': 0.078, 'neu': 0.735, 'pos': 0.187, 'compound': 0.9637}, 301: {'neg': 0.0, 'neu': 0.632, 'pos': 0.368, 'compound': 0.9661}, 302: {'neg': 0.148, 'neu': 0.625, 'pos': 0.227, 'compound': 0.5849}, 303: {'neg': 0.014, 'neu': 0.705, 'pos': 0.281, 'compound': 0.9763}, 304: {'neg': 0.076, 'neu': 0.791, 'pos': 0.133, 'compound': 0.25}, 305: {'neg': 0.058, 'neu': 0.778, 'pos': 0.165, 'compound': 0.5734}, 306: {'neg': 0.143, 'neu': 0.769, 'pos': 0.088, 'compound': -0.8349}, 307: {'neg': 0.097, 'neu': 0.781, 'pos': 0.122, 'compound': 0.4733}, 308: {'neg': 0.0, 'neu': 0.649, 'pos': 0.351, 'compound': 0.894}, 309: {'neg': 0.0, 'neu': 0.796, 'pos': 0.204, 'compound': 0.9695}, 310: {'neg': 0.0, 'neu': 0.774, 'pos': 0.226, 'compound': 0.9287}, 311: {'neg': 0.031, 'neu': 0.657, 'pos': 0.312, 'compound': 0.9644}, 312: {'neg': 0.087, 'neu': 0.913, 'pos': 0.0, 'compound': -0.4939}, 313: {'neg': 0.0, 'neu': 1.0, 'pos': 0.0, 'compound': 0.0}, 314: {'neg': 0.018, 'neu': 0.914, 'pos': 0.069, 'compound': 0.4971}, 315: {'neg': 0.023, 'neu': 0.846, 'pos': 0.131, 'compound': 0.5944}, 316: {'neg': 0.06, 'neu': 0.772, 'pos': 0.168, 'compound': 0.9109}, 317: {'neg': 0.0, 'neu': 0.823, 'pos': 0.177, 'compound': 0.5783}, 318: {'neg': 0.07, 'neu': 0.839, 'pos': 0.091, 'compound': 0.6785}, 319: {'neg': 0.0, 'neu': 0.904, 'pos': 0.096, 'compound': 0.3716}, 320: {'neg': 0.0, 'neu': 0.758, 'pos': 0.242, 'compound': 0.7717}, 321: {'neg': 0.065, 'neu': 0.562, 'pos': 0.373, 'compound': 0.886}, 322: {'neg': 0.0, 'neu': 1.0, 'pos': 0.0, 'compound': 0.0}, 323: {'neg': 0.05, 'neu': 0.69, 'pos': 0.26, 'compound': 0.7712}, 324: {'neg': 0.0, 'neu': 1.0, 'pos': 0.0, 'compound': 0.0}, 325: {'neg': 0.213, 'neu': 0.514, 'pos': 0.274, 'compound': 0.3185}, 326: {'neg': 0.0, 'neu': 0.688, 'pos': 0.312, 'compound': 0.8979}, 327: {'neg': 0.075, 'neu': 0.726, 'pos': 0.199, 'compound': 0.9373}, 328: {'neg': 0.064, 'neu': 0.594, 'pos': 0.342, 'compound': 0.9581}, 329: {'neg': 0.163, 'neu': 0.708, 'pos': 0.129, 'compound': -0.8462}, 330: {'neg': 0.037, 'neu': 0.8, 'pos': 0.163, 'compound': 0.8119}, 331: {'neg': 0.0, 'neu': 0.837, 'pos': 0.163, 'compound': 0.6249}, 332: {'neg': 0.115, 'neu': 0.885, 'pos': 0.0, 'compound': -0.4588}, 333: {'neg': 0.0, 'neu': 0.689, 'pos': 0.311, 'compound': 0.9732}, 334: {'neg': 0.0, 'neu': 0.662, 'pos': 0.338, 'compound': 0.9719}, 335: {'neg': 0.0, 'neu': 0.886, 'pos': 0.114, 'compound': 0.6124}, 336: {'neg': 0.046, 'neu': 0.8, 'pos': 0.154, 'compound': 0.6796}, 337: {'neg': 0.078, 'neu': 0.651, 'pos': 0.271, 'compound': 0.8506}, 338: {'neg': 0.0, 'neu': 0.765, 'pos': 0.235, 'compound': 0.9008}, 339: {'neg': 0.0, 'neu': 0.734, 'pos': 0.266, 'compound': 0.784}, 340: {'neg': 0.078, 'neu': 0.823, 'pos': 0.098, 'compound': 0.4416}, 341: {'neg': 0.069, 'neu': 0.782, 'pos': 0.149, 'compound': 0.8499}, 342: {'neg': 0.041, 'neu': 0.657, 'pos': 0.302, 'compound': 0.8731}, 343: {'neg': 0.0, 'neu': 0.912, 'pos': 0.088, 'compound': 0.4939}, 344: {'neg': 0.11, 'neu': 0.678, 'pos': 0.211, 'compound': 0.8053}, 345: {'neg': 0.101, 'neu': 0.627, 'pos': 0.273, 'compound': 0.9758}, 346: {'neg': 0.044, 'neu': 0.725, 'pos': 0.231, 'compound': 0.8319}, 347: {'neg': 0.0, 'neu': 0.608, 'pos': 0.392, 'compound': 0.9694}, 348: {'neg': 0.093, 'neu': 0.752, 'pos': 0.155, 'compound': 0.7667}, 349: {'neg': 0.0, 'neu': 0.678, 'pos': 0.322, 'compound': 0.908}, 350: {'neg': 0.071, 'neu': 0.861, 'pos': 0.068, 'compound': -0.0258}, 351: {'neg': 0.0, 'neu': 0.715, 'pos': 0.285, 'compound': 0.9177}, 352: {'neg': 0.064, 'neu': 0.727, 'pos': 0.209, 'compound': 0.7337}, 353: {'neg': 0.0, 'neu': 0.893, 'pos': 0.107, 'compound': 0.802}, 354: {'neg': 0.0, 'neu': 0.888, 'pos': 0.112, 'compound': 0.6604}, 355: {'neg': 0.0, 'neu': 0.802, 'pos': 0.198, 'compound': 0.6892}, 356: {'neg': 0.05, 'neu': 0.734, 'pos': 0.215, 'compound': 0.8008}, 357: {'neg': 0.027, 'neu': 0.835, 'pos': 0.138, 'compound': 0.8805}, 358: {'neg': 0.0, 'neu': 0.841, 'pos': 0.159, 'compound': 0.8519}, 359: {'neg': 0.164, 'neu': 0.694, 'pos': 0.142, 'compound': 0.283}, 360: {'neg': 0.0, 'neu': 0.705, 'pos': 0.295, 'compound': 0.954}, 361: {'neg': 0.033, 'neu': 0.785, 'pos': 0.182, 'compound': 0.9441}, 362: {'neg': 0.228, 'neu': 0.772, 'pos': 0.0, 'compound': -0.734}, 363: {'neg': 0.0, 'neu': 0.891, 'pos': 0.109, 'compound': 0.8802}, 364: {'neg': 0.0, 'neu': 0.742, 'pos': 0.258, 'compound': 0.8088}, 365: {'neg': 0.033, 'neu': 0.621, 'pos': 0.346, 'compound': 0.9334}, 366: {'neg': 0.076, 'neu': 0.768, 'pos': 0.156, 'compound': 0.4434}, 367: {'neg': 0.0, 'neu': 0.685, 'pos': 0.315, 'compound': 0.9366}, 368: {'neg': 0.038, 'neu': 0.84, 'pos': 0.122, 'compound': 0.8016}, 369: {'neg': 0.064, 'neu': 0.871, 'pos': 0.066, 'compound': 0.0258}, 370: {'neg': 0.0, 'neu': 0.913, 'pos': 0.087, 'compound': 0.7703}, 371: {'neg': 0.012, 'neu': 0.86, 'pos': 0.128, 'compound': 0.9923}, 372: {'neg': 0.0, 'neu': 0.631, 'pos': 0.369, 'compound': 0.8935}, 373: {'neg': 0.11, 'neu': 0.748, 'pos': 0.142, 'compound': 0.1264}, 374: {'neg': 0.0, 'neu': 0.588, 'pos': 0.412, 'compound': 0.9168}, 375: {'neg': 0.0, 'neu': 0.728, 'pos': 0.272, 'compound': 0.9472}, 376: {'neg': 0.054, 'neu': 0.69, 'pos': 0.256, 'compound': 0.8962}, 377: {'neg': 0.0, 'neu': 0.796, 'pos': 0.204, 'compound': 0.874}, 378: {'neg': 0.065, 'neu': 0.764, 'pos': 0.171, 'compound': 0.9266}, 379: {'neg': 0.063, 'neu': 0.524, 'pos': 0.413, 'compound': 0.9709}, 380: {'neg': 0.036, 'neu': 0.695, 'pos': 0.269, 'compound': 0.9468}, 381: {'neg': 0.074, 'neu': 0.715, 'pos': 0.212, 'compound': 0.8349}, 382: {'neg': 0.318, 'neu': 0.515, 'pos': 0.167, 'compound': -0.7184}, 383: {'neg': 0.0, 'neu': 0.905, 'pos': 0.095, 'compound': 0.6369}, 384: {'neg': 0.037, 'neu': 0.779, 'pos': 0.185, 'compound': 0.9893}, 385: {'neg': 0.0, 'neu': 0.767, 'pos': 0.233, 'compound': 0.8065}, 386: {'neg': 0.0, 'neu': 0.774, 'pos': 0.226, 'compound': 0.9796}, 387: {'neg': 0.0, 'neu': 0.839, 'pos': 0.161, 'compound': 0.8625}, 388: {'neg': 0.089, 'neu': 0.75, 'pos': 0.161, 'compound': 0.8201}, 389: {'neg': 0.088, 'neu': 0.537, 'pos': 0.375, 'compound': 0.755}, 390: {'neg': 0.031, 'neu': 0.764, 'pos': 0.205, 'compound': 0.9183}, 391: {'neg': 0.248, 'neu': 0.636, 'pos': 0.116, 'compound': -0.8174}, 392: {'neg': 0.0, 'neu': 0.642, 'pos': 0.358, 'compound': 0.8591}, 393: {'neg': 0.0, 'neu': 0.661, 'pos': 0.339, 'compound': 0.8481}, 394: {'neg': 0.0, 'neu': 1.0, 'pos': 0.0, 'compound': 0.0}, 395: {'neg': 0.0, 'neu': 0.83, 'pos': 0.17, 'compound': 0.8016}, 396: {'neg': 0.0, 'neu': 0.502, 'pos': 0.498, 'compound': 0.9677}, 397: {'neg': 0.0, 'neu': 0.638, 'pos': 0.362, 'compound': 0.9682}, 398: {'neg': 0.046, 'neu': 0.703, 'pos': 0.251, 'compound': 0.867}, 399: {'neg': 0.0, 'neu': 0.826, 'pos': 0.174, 'compound': 0.9814}, 400: {'neg': 0.0, 'neu': 0.787, 'pos': 0.213, 'compound': 0.7644}, 401: {'neg': 0.234, 'neu': 0.556, 'pos': 0.211, 'compound': 0.0}, 402: {'neg': 0.093, 'neu': 0.813, 'pos': 0.095, 'compound': 0.0258}, 403: {'neg': 0.215, 'neu': 0.697, 'pos': 0.088, 'compound': -0.6351}, 404: {'neg': 0.194, 'neu': 0.771, 'pos': 0.035, 'compound': -0.9058}, 405: {'neg': 0.0, 'neu': 0.691, 'pos': 0.309, 'compound': 0.8172}, 406: {'neg': 0.019, 'neu': 0.702, 'pos': 0.279, 'compound': 0.9622}, 407: {'neg': 0.0, 'neu': 0.954, 'pos': 0.046, 'compound': 0.6249}, 408: {'neg': 0.036, 'neu': 0.772, 'pos': 0.192, 'compound': 0.9477}, 409: {'neg': 0.0, 'neu': 0.713, 'pos': 0.287, 'compound': 0.9257}, 410: {'neg': 0.05, 'neu': 0.758, 'pos': 0.192, 'compound': 0.8316}, 411: {'neg': 0.023, 'neu': 0.858, 'pos': 0.118, 'compound': 0.8969}, 412: {'neg': 0.0, 'neu': 0.802, 'pos': 0.198, 'compound': 0.8555}, 413: {'neg': 0.0, 'neu': 0.815, 'pos': 0.185, 'compound': 0.7777}, 414: {'neg': 0.0, 'neu': 0.914, 'pos': 0.086, 'compound': 0.4118}, 415: {'neg': 0.0, 'neu': 0.722, 'pos': 0.278, 'compound': 0.8902}, 416: {'neg': 0.0, 'neu': 0.592, 'pos': 0.408, 'compound': 0.9622}, 417: {'neg': 0.07, 'neu': 0.799, 'pos': 0.131, 'compound': 0.9222}, 418: {'neg': 0.166, 'neu': 0.809, 'pos': 0.025, 'compound': -0.8957}, 419: {'neg': 0.0, 'neu': 0.784, 'pos': 0.216, 'compound': 0.8876}, 420: {'neg': 0.148, 'neu': 0.815, 'pos': 0.037, 'compound': -0.5983}, 421: {'neg': 0.035, 'neu': 0.754, 'pos': 0.211, 'compound': 0.9561}, 422: {'neg': 0.0, 'neu': 0.861, 'pos': 0.139, 'compound': 0.4404}, 423: {'neg': 0.223, 'neu': 0.68, 'pos': 0.096, 'compound': -0.3314}, 424: {'neg': 0.055, 'neu': 0.687, 'pos': 0.258, 'compound': 0.9106}, 425: {'neg': 0.017, 'neu': 0.821, 'pos': 0.161, 'compound': 0.9576}, 426: {'neg': 0.0, 'neu': 0.806, 'pos': 0.194, 'compound': 0.7717}, 427: {'neg': 0.029, 'neu': 0.817, 'pos': 0.154, 'compound': 0.7845}, 428: {'neg': 0.0, 'neu': 0.761, 'pos': 0.239, 'compound': 0.9337}, 429: {'neg': 0.0, 'neu': 0.739, 'pos': 0.261, 'compound': 0.9741}, 430: {'neg': 0.0, 'neu': 0.617, 'pos': 0.383, 'compound': 0.9876}, 431: {'neg': 0.04, 'neu': 0.786, 'pos': 0.174, 'compound': 0.9847}, 432: {'neg': 0.0, 'neu': 0.73, 'pos': 0.27, 'compound': 0.9516}, 433: {'neg': 0.083, 'neu': 0.751, 'pos': 0.166, 'compound': 0.8044}, 434: {'neg': 0.108, 'neu': 0.593, 'pos': 0.299, 'compound': 0.8655}, 435: {'neg': 0.0, 'neu': 0.771, 'pos': 0.229, 'compound': 0.9179}, 436: {'neg': 0.0, 'neu': 0.829, 'pos': 0.171, 'compound': 0.8519}, 437: {'neg': 0.0, 'neu': 0.926, 'pos': 0.074, 'compound': 0.7383}, 438: {'neg': 0.0, 'neu': 0.887, 'pos': 0.113, 'compound': 0.6369}, 439: {'neg': 0.0, 'neu': 0.728, 'pos': 0.272, 'compound': 0.87}, 440: {'neg': 0.072, 'neu': 0.781, 'pos': 0.147, 'compound': 0.9307}, 441: {'neg': 0.078, 'neu': 0.793, 'pos': 0.129, 'compound': 0.5176}, 442: {'neg': 0.054, 'neu': 0.69, 'pos': 0.257, 'compound': 0.9683}, 443: {'neg': 0.0, 'neu': 0.616, 'pos': 0.384, 'compound': 0.9603}, 444: {'neg': 0.044, 'neu': 0.898, 'pos': 0.058, 'compound': 0.1882}, 445: {'neg': 0.055, 'neu': 0.873, 'pos': 0.072, 'compound': 0.0935}, 446: {'neg': 0.077, 'neu': 0.78, 'pos': 0.143, 'compound': 0.3699}, 447: {'neg': 0.042, 'neu': 0.763, 'pos': 0.195, 'compound': 0.9883}, 448: {'neg': 0.0, 'neu': 0.713, 'pos': 0.287, 'compound': 0.967}, 449: {'neg': 0.0, 'neu': 0.737, 'pos': 0.263, 'compound': 0.8531}, 450: {'neg': 0.0, 'neu': 0.845, 'pos': 0.155, 'compound': 0.6908}, 451: {'neg': 0.034, 'neu': 0.743, 'pos': 0.223, 'compound': 0.9873}, 452: {'neg': 0.054, 'neu': 0.782, 'pos': 0.164, 'compound': 0.9337}, 453: {'neg': 0.0, 'neu': 0.5, 'pos': 0.5, 'compound': 0.943}, 454: {'neg': 0.0, 'neu': 0.603, 'pos': 0.397, 'compound': 0.8811}, 455: {'neg': 0.0, 'neu': 0.699, 'pos': 0.301, 'compound': 0.9619}, 456: {'neg': 0.082, 'neu': 0.854, 'pos': 0.064, 'compound': -0.4854}, 457: {'neg': 0.0, 'neu': 0.684, 'pos': 0.316, 'compound': 0.926}, 458: {'neg': 0.0, 'neu': 0.564, 'pos': 0.436, 'compound': 0.9642}, 459: {'neg': 0.045, 'neu': 0.717, 'pos': 0.239, 'compound': 0.8455}, 460: {'neg': 0.068, 'neu': 0.765, 'pos': 0.167, 'compound': 0.9091}, 461: {'neg': 0.08, 'neu': 0.821, 'pos': 0.099, 'compound': 0.4883}, 462: {'neg': 0.037, 'neu': 0.87, 'pos': 0.093, 'compound': 0.34}, 463: {'neg': 0.074, 'neu': 0.873, 'pos': 0.053, 'compound': 0.0165}, 464: {'neg': 0.019, 'neu': 0.868, 'pos': 0.113, 'compound': 0.8443}, 465: {'neg': 0.0, 'neu': 0.786, 'pos': 0.214, 'compound': 0.9111}, 466: {'neg': 0.0, 'neu': 0.772, 'pos': 0.228, 'compound': 0.9606}, 467: {'neg': 0.009, 'neu': 0.845, 'pos': 0.147, 'compound': 0.9874}, 468: {'neg': 0.008, 'neu': 0.818, 'pos': 0.174, 'compound': 0.9926}, 469: {'neg': 0.049, 'neu': 0.951, 'pos': 0.0, 'compound': -0.3595}, 470: {'neg': 0.0, 'neu': 0.957, 'pos': 0.043, 'compound': 0.25}, 471: {'neg': 0.051, 'neu': 0.676, 'pos': 0.273, 'compound': 0.9749}, 472: {'neg': 0.0, 'neu': 0.565, 'pos': 0.435, 'compound': 0.9649}, 473: {'neg': 0.0, 'neu': 0.686, 'pos': 0.314, 'compound': 0.7506}, 474: {'neg': 0.013, 'neu': 0.75, 'pos': 0.237, 'compound': 0.9828}, 475: {'neg': 0.0, 'neu': 0.585, 'pos': 0.415, 'compound': 0.9095}, 476: {'neg': 0.025, 'neu': 0.608, 'pos': 0.367, 'compound': 0.9828}, 477: {'neg': 0.034, 'neu': 0.728, 'pos': 0.238, 'compound': 0.8555}, 478: {'neg': 0.0, 'neu': 0.823, 'pos': 0.177, 'compound': 0.6239}, 479: {'neg': 0.245, 'neu': 0.652, 'pos': 0.103, 'compound': -0.3855}, 480: {'neg': 0.0, 'neu': 0.435, 'pos': 0.565, 'compound': 0.9935}, 481: {'neg': 0.03, 'neu': 0.718, 'pos': 0.251, 'compound': 0.9432}, 482: {'neg': 0.0, 'neu': 0.605, 'pos': 0.395, 'compound': 0.9079}, 483: {'neg': 0.0, 'neu': 0.862, 'pos': 0.138, 'compound': 0.3384}, 484: {'neg': 0.088, 'neu': 0.767, 'pos': 0.145, 'compound': 0.4516}, 485: {'neg': 0.0, 'neu': 0.761, 'pos': 0.239, 'compound': 0.8547}, 486: {'neg': 0.044, 'neu': 0.811, 'pos': 0.144, 'compound': 0.7845}, 487: {'neg': 0.0, 'neu': 0.909, 'pos': 0.091, 'compound': 0.296}, 488: {'neg': 0.179, 'neu': 0.707, 'pos': 0.114, 'compound': -0.3723}, 489: {'neg': 0.0, 'neu': 0.861, 'pos': 0.139, 'compound': 0.9598}, 490: {'neg': 0.0, 'neu': 0.763, 'pos': 0.237, 'compound': 0.9788}, 491: {'neg': 0.055, 'neu': 0.704, 'pos': 0.241, 'compound': 0.9287}, 492: {'neg': 0.0, 'neu': 0.717, 'pos': 0.283, 'compound': 0.9367}, 493: {'neg': 0.056, 'neu': 0.855, 'pos': 0.089, 'compound': 0.5976}, 494: {'neg': 0.086, 'neu': 0.703, 'pos': 0.211, 'compound': 0.4939}, 495: {'neg': 0.0, 'neu': 0.788, 'pos': 0.212, 'compound': 0.9743}, 496: {'neg': 0.0, 'neu': 0.554, 'pos': 0.446, 'compound': 0.9725}, 497: {'neg': 0.059, 'neu': 0.791, 'pos': 0.15, 'compound': 0.8215}, 498: {'neg': 0.025, 'neu': 0.762, 'pos': 0.212, 'compound': 0.9848}, 499: {'neg': 0.041, 'neu': 0.904, 'pos': 0.055, 'compound': 0.128}, 500: {'neg': 0.0, 'neu': 0.678, 'pos': 0.322, 'compound': 0.9811}}\n"
     ]
    }
   ],
   "source": [
    "# Run the Polarity Scores on the Dataframe \n",
    "res ={}\n",
    "# Iterate over each row in the DataFrame\n",
    "for i, row in tqdm(df.iterrows(), total=len(df)):\n",
    "    text = row['Text']\n",
    "    myid = row['Id']\n",
    "    # Perform sentiment analysis and store the result in the dictionary\n",
    "    res[myid] = sia.polarity_scores(text)\n",
    "\n",
    "# Print the results\n",
    "print(res)\n",
    "\n"
   ]
  },
  {
   "cell_type": "code",
   "execution_count": 11,
   "id": "b1127663",
   "metadata": {
    "execution": {
     "iopub.execute_input": "2025-01-22T09:48:52.674658Z",
     "iopub.status.busy": "2025-01-22T09:48:52.674333Z",
     "iopub.status.idle": "2025-01-22T09:48:52.696948Z",
     "shell.execute_reply": "2025-01-22T09:48:52.695730Z"
    },
    "papermill": {
     "duration": 0.031944,
     "end_time": "2025-01-22T09:48:52.698827",
     "exception": false,
     "start_time": "2025-01-22T09:48:52.666883",
     "status": "completed"
    },
    "tags": []
   },
   "outputs": [],
   "source": [
    "vaders =pd.DataFrame(res).T\n",
    "vaders=vaders.reset_index().rename(columns={'index':'Id'})\n",
    "vaders=vaders.merge(df,how='left')\n",
    "\n"
   ]
  },
  {
   "cell_type": "code",
   "execution_count": 12,
   "id": "6303c78c",
   "metadata": {
    "execution": {
     "iopub.execute_input": "2025-01-22T09:48:52.713423Z",
     "iopub.status.busy": "2025-01-22T09:48:52.713060Z",
     "iopub.status.idle": "2025-01-22T09:48:52.734115Z",
     "shell.execute_reply": "2025-01-22T09:48:52.733080Z"
    },
    "papermill": {
     "duration": 0.030113,
     "end_time": "2025-01-22T09:48:52.735690",
     "exception": false,
     "start_time": "2025-01-22T09:48:52.705577",
     "status": "completed"
    },
    "tags": []
   },
   "outputs": [
    {
     "data": {
      "text/html": [
       "<div>\n",
       "<style scoped>\n",
       "    .dataframe tbody tr th:only-of-type {\n",
       "        vertical-align: middle;\n",
       "    }\n",
       "\n",
       "    .dataframe tbody tr th {\n",
       "        vertical-align: top;\n",
       "    }\n",
       "\n",
       "    .dataframe thead th {\n",
       "        text-align: right;\n",
       "    }\n",
       "</style>\n",
       "<table border=\"1\" class=\"dataframe\">\n",
       "  <thead>\n",
       "    <tr style=\"text-align: right;\">\n",
       "      <th></th>\n",
       "      <th>Id</th>\n",
       "      <th>neg</th>\n",
       "      <th>neu</th>\n",
       "      <th>pos</th>\n",
       "      <th>compound</th>\n",
       "      <th>ProductId</th>\n",
       "      <th>UserId</th>\n",
       "      <th>ProfileName</th>\n",
       "      <th>HelpfulnessNumerator</th>\n",
       "      <th>HelpfulnessDenominator</th>\n",
       "      <th>Score</th>\n",
       "      <th>Time</th>\n",
       "      <th>Summary</th>\n",
       "      <th>Text</th>\n",
       "    </tr>\n",
       "  </thead>\n",
       "  <tbody>\n",
       "    <tr>\n",
       "      <th>0</th>\n",
       "      <td>1</td>\n",
       "      <td>0.000</td>\n",
       "      <td>0.695</td>\n",
       "      <td>0.305</td>\n",
       "      <td>0.9441</td>\n",
       "      <td>B001E4KFG0</td>\n",
       "      <td>A3SGXH7AUHU8GW</td>\n",
       "      <td>delmartian</td>\n",
       "      <td>1</td>\n",
       "      <td>1</td>\n",
       "      <td>5</td>\n",
       "      <td>1303862400</td>\n",
       "      <td>Good Quality Dog Food</td>\n",
       "      <td>I have bought several of the Vitality canned d...</td>\n",
       "    </tr>\n",
       "    <tr>\n",
       "      <th>1</th>\n",
       "      <td>2</td>\n",
       "      <td>0.079</td>\n",
       "      <td>0.853</td>\n",
       "      <td>0.068</td>\n",
       "      <td>-0.1027</td>\n",
       "      <td>B00813GRG4</td>\n",
       "      <td>A1D87F6ZCVE5NK</td>\n",
       "      <td>dll pa</td>\n",
       "      <td>0</td>\n",
       "      <td>0</td>\n",
       "      <td>1</td>\n",
       "      <td>1346976000</td>\n",
       "      <td>Not as Advertised</td>\n",
       "      <td>Product arrived labeled as Jumbo Salted Peanut...</td>\n",
       "    </tr>\n",
       "    <tr>\n",
       "      <th>2</th>\n",
       "      <td>3</td>\n",
       "      <td>0.091</td>\n",
       "      <td>0.754</td>\n",
       "      <td>0.155</td>\n",
       "      <td>0.8265</td>\n",
       "      <td>B000LQOCH0</td>\n",
       "      <td>ABXLMWJIXXAIN</td>\n",
       "      <td>Natalia Corres \"Natalia Corres\"</td>\n",
       "      <td>1</td>\n",
       "      <td>1</td>\n",
       "      <td>4</td>\n",
       "      <td>1219017600</td>\n",
       "      <td>\"Delight\" says it all</td>\n",
       "      <td>This is a confection that has been around a fe...</td>\n",
       "    </tr>\n",
       "    <tr>\n",
       "      <th>3</th>\n",
       "      <td>4</td>\n",
       "      <td>0.000</td>\n",
       "      <td>1.000</td>\n",
       "      <td>0.000</td>\n",
       "      <td>0.0000</td>\n",
       "      <td>B000UA0QIQ</td>\n",
       "      <td>A395BORC6FGVXV</td>\n",
       "      <td>Karl</td>\n",
       "      <td>3</td>\n",
       "      <td>3</td>\n",
       "      <td>2</td>\n",
       "      <td>1307923200</td>\n",
       "      <td>Cough Medicine</td>\n",
       "      <td>If you are looking for the secret ingredient i...</td>\n",
       "    </tr>\n",
       "    <tr>\n",
       "      <th>4</th>\n",
       "      <td>5</td>\n",
       "      <td>0.000</td>\n",
       "      <td>0.552</td>\n",
       "      <td>0.448</td>\n",
       "      <td>0.9468</td>\n",
       "      <td>B006K2ZZ7K</td>\n",
       "      <td>A1UQRSCLF8GW1T</td>\n",
       "      <td>Michael D. Bigham \"M. Wassir\"</td>\n",
       "      <td>0</td>\n",
       "      <td>0</td>\n",
       "      <td>5</td>\n",
       "      <td>1350777600</td>\n",
       "      <td>Great taffy</td>\n",
       "      <td>Great taffy at a great price.  There was a wid...</td>\n",
       "    </tr>\n",
       "    <tr>\n",
       "      <th>...</th>\n",
       "      <td>...</td>\n",
       "      <td>...</td>\n",
       "      <td>...</td>\n",
       "      <td>...</td>\n",
       "      <td>...</td>\n",
       "      <td>...</td>\n",
       "      <td>...</td>\n",
       "      <td>...</td>\n",
       "      <td>...</td>\n",
       "      <td>...</td>\n",
       "      <td>...</td>\n",
       "      <td>...</td>\n",
       "      <td>...</td>\n",
       "      <td>...</td>\n",
       "    </tr>\n",
       "    <tr>\n",
       "      <th>495</th>\n",
       "      <td>496</td>\n",
       "      <td>0.000</td>\n",
       "      <td>0.554</td>\n",
       "      <td>0.446</td>\n",
       "      <td>0.9725</td>\n",
       "      <td>B000G6RYNE</td>\n",
       "      <td>APGAA43E3WPN7</td>\n",
       "      <td>Darren</td>\n",
       "      <td>0</td>\n",
       "      <td>0</td>\n",
       "      <td>5</td>\n",
       "      <td>1201392000</td>\n",
       "      <td>amazing chips</td>\n",
       "      <td>i rarely eat chips but i saw these and tried t...</td>\n",
       "    </tr>\n",
       "    <tr>\n",
       "      <th>496</th>\n",
       "      <td>497</td>\n",
       "      <td>0.059</td>\n",
       "      <td>0.791</td>\n",
       "      <td>0.150</td>\n",
       "      <td>0.8215</td>\n",
       "      <td>B000G6RYNE</td>\n",
       "      <td>ABR7HU5H1KNE</td>\n",
       "      <td>Keith</td>\n",
       "      <td>0</td>\n",
       "      <td>0</td>\n",
       "      <td>5</td>\n",
       "      <td>1196726400</td>\n",
       "      <td>Best Chip Ever</td>\n",
       "      <td>This is easily the best potato chip that I hav...</td>\n",
       "    </tr>\n",
       "    <tr>\n",
       "      <th>497</th>\n",
       "      <td>498</td>\n",
       "      <td>0.025</td>\n",
       "      <td>0.762</td>\n",
       "      <td>0.212</td>\n",
       "      <td>0.9848</td>\n",
       "      <td>B000G6RYNE</td>\n",
       "      <td>AJQD2WWJYOYFQ</td>\n",
       "      <td>bubbles</td>\n",
       "      <td>0</td>\n",
       "      <td>0</td>\n",
       "      <td>4</td>\n",
       "      <td>1186617600</td>\n",
       "      <td>Tangy, spicy, and sweet- oh my!</td>\n",
       "      <td>Kettle Chips Spicy Thai potato chips have the ...</td>\n",
       "    </tr>\n",
       "    <tr>\n",
       "      <th>498</th>\n",
       "      <td>499</td>\n",
       "      <td>0.041</td>\n",
       "      <td>0.904</td>\n",
       "      <td>0.055</td>\n",
       "      <td>0.1280</td>\n",
       "      <td>B000G6RYNE</td>\n",
       "      <td>A16YH487W9ZYO0</td>\n",
       "      <td>Bruce G. Lindsay</td>\n",
       "      <td>0</td>\n",
       "      <td>0</td>\n",
       "      <td>4</td>\n",
       "      <td>1184198400</td>\n",
       "      <td>An indulgence with a bite</td>\n",
       "      <td>Okay, I should not eat potato chips, nor shoul...</td>\n",
       "    </tr>\n",
       "    <tr>\n",
       "      <th>499</th>\n",
       "      <td>500</td>\n",
       "      <td>0.000</td>\n",
       "      <td>0.678</td>\n",
       "      <td>0.322</td>\n",
       "      <td>0.9811</td>\n",
       "      <td>B000G6RYNE</td>\n",
       "      <td>A83YQC1XOU4CS</td>\n",
       "      <td>J. Baker</td>\n",
       "      <td>0</td>\n",
       "      <td>0</td>\n",
       "      <td>5</td>\n",
       "      <td>1183420800</td>\n",
       "      <td>The best I've had</td>\n",
       "      <td>I don't write very many reviews but I have to ...</td>\n",
       "    </tr>\n",
       "  </tbody>\n",
       "</table>\n",
       "<p>500 rows × 14 columns</p>\n",
       "</div>"
      ],
      "text/plain": [
       "      Id    neg    neu    pos  compound   ProductId          UserId  \\\n",
       "0      1  0.000  0.695  0.305    0.9441  B001E4KFG0  A3SGXH7AUHU8GW   \n",
       "1      2  0.079  0.853  0.068   -0.1027  B00813GRG4  A1D87F6ZCVE5NK   \n",
       "2      3  0.091  0.754  0.155    0.8265  B000LQOCH0   ABXLMWJIXXAIN   \n",
       "3      4  0.000  1.000  0.000    0.0000  B000UA0QIQ  A395BORC6FGVXV   \n",
       "4      5  0.000  0.552  0.448    0.9468  B006K2ZZ7K  A1UQRSCLF8GW1T   \n",
       "..   ...    ...    ...    ...       ...         ...             ...   \n",
       "495  496  0.000  0.554  0.446    0.9725  B000G6RYNE   APGAA43E3WPN7   \n",
       "496  497  0.059  0.791  0.150    0.8215  B000G6RYNE    ABR7HU5H1KNE   \n",
       "497  498  0.025  0.762  0.212    0.9848  B000G6RYNE   AJQD2WWJYOYFQ   \n",
       "498  499  0.041  0.904  0.055    0.1280  B000G6RYNE  A16YH487W9ZYO0   \n",
       "499  500  0.000  0.678  0.322    0.9811  B000G6RYNE   A83YQC1XOU4CS   \n",
       "\n",
       "                         ProfileName  HelpfulnessNumerator  \\\n",
       "0                         delmartian                     1   \n",
       "1                             dll pa                     0   \n",
       "2    Natalia Corres \"Natalia Corres\"                     1   \n",
       "3                               Karl                     3   \n",
       "4      Michael D. Bigham \"M. Wassir\"                     0   \n",
       "..                               ...                   ...   \n",
       "495                           Darren                     0   \n",
       "496                            Keith                     0   \n",
       "497                          bubbles                     0   \n",
       "498                 Bruce G. Lindsay                     0   \n",
       "499                         J. Baker                     0   \n",
       "\n",
       "     HelpfulnessDenominator  Score        Time  \\\n",
       "0                         1      5  1303862400   \n",
       "1                         0      1  1346976000   \n",
       "2                         1      4  1219017600   \n",
       "3                         3      2  1307923200   \n",
       "4                         0      5  1350777600   \n",
       "..                      ...    ...         ...   \n",
       "495                       0      5  1201392000   \n",
       "496                       0      5  1196726400   \n",
       "497                       0      4  1186617600   \n",
       "498                       0      4  1184198400   \n",
       "499                       0      5  1183420800   \n",
       "\n",
       "                             Summary  \\\n",
       "0              Good Quality Dog Food   \n",
       "1                  Not as Advertised   \n",
       "2              \"Delight\" says it all   \n",
       "3                     Cough Medicine   \n",
       "4                        Great taffy   \n",
       "..                               ...   \n",
       "495                    amazing chips   \n",
       "496                   Best Chip Ever   \n",
       "497  Tangy, spicy, and sweet- oh my!   \n",
       "498        An indulgence with a bite   \n",
       "499                The best I've had   \n",
       "\n",
       "                                                  Text  \n",
       "0    I have bought several of the Vitality canned d...  \n",
       "1    Product arrived labeled as Jumbo Salted Peanut...  \n",
       "2    This is a confection that has been around a fe...  \n",
       "3    If you are looking for the secret ingredient i...  \n",
       "4    Great taffy at a great price.  There was a wid...  \n",
       "..                                                 ...  \n",
       "495  i rarely eat chips but i saw these and tried t...  \n",
       "496  This is easily the best potato chip that I hav...  \n",
       "497  Kettle Chips Spicy Thai potato chips have the ...  \n",
       "498  Okay, I should not eat potato chips, nor shoul...  \n",
       "499  I don't write very many reviews but I have to ...  \n",
       "\n",
       "[500 rows x 14 columns]"
      ]
     },
     "execution_count": 12,
     "metadata": {},
     "output_type": "execute_result"
    }
   ],
   "source": [
    "vaders\n"
   ]
  },
  {
   "cell_type": "markdown",
   "id": "f2f20ce2",
   "metadata": {
    "papermill": {
     "duration": 0.006548,
     "end_time": "2025-01-22T09:48:52.749620",
     "exception": false,
     "start_time": "2025-01-22T09:48:52.743072",
     "status": "completed"
    },
    "tags": []
   },
   "source": [
    "## PLOT Vader Result \n"
   ]
  },
  {
   "cell_type": "code",
   "execution_count": 13,
   "id": "8307441a",
   "metadata": {
    "execution": {
     "iopub.execute_input": "2025-01-22T09:48:52.765164Z",
     "iopub.status.busy": "2025-01-22T09:48:52.764818Z",
     "iopub.status.idle": "2025-01-22T09:48:53.049466Z",
     "shell.execute_reply": "2025-01-22T09:48:53.048459Z"
    },
    "papermill": {
     "duration": 0.294733,
     "end_time": "2025-01-22T09:48:53.051397",
     "exception": false,
     "start_time": "2025-01-22T09:48:52.756664",
     "status": "completed"
    },
    "tags": []
   },
   "outputs": [
    {
     "data": {
      "image/png": "[encoded data removed]",
      "text/plain": [
       "<Figure size 640x480 with 1 Axes>"
      ]
     },
     "metadata": {},
     "output_type": "display_data"
    }
   ],
   "source": [
    "import seaborn as sns\n",
    "import matplotlib.pyplot as plt\n",
    "\n",
    "# Assuming 'vaders' DataFrame contains the 'Score' and 'compound' columns\n",
    "ax = sns.barplot(data=vaders, x='Score', y='compound')\n",
    "ax.set_title('Compound Score By Amazon Star Review')\n",
    "plt.show()"
   ]
  },
  {
   "cell_type": "code",
   "execution_count": 14,
   "id": "4a840bd6",
   "metadata": {
    "execution": {
     "iopub.execute_input": "2025-01-22T09:48:53.069958Z",
     "iopub.status.busy": "2025-01-22T09:48:53.069440Z",
     "iopub.status.idle": "2025-01-22T09:48:53.915226Z",
     "shell.execute_reply": "2025-01-22T09:48:53.914093Z"
    },
    "papermill": {
     "duration": 0.858037,
     "end_time": "2025-01-22T09:48:53.917168",
     "exception": false,
     "start_time": "2025-01-22T09:48:53.059131",
     "status": "completed"
    },
    "tags": []
   },
   "outputs": [
    {
     "data": {
      "image/png": "[encoded data removed]",
      "text/plain": [
       "<Figure size 1200x300 with 3 Axes>"
      ]
     },
     "metadata": {},
     "output_type": "display_data"
    }
   ],
   "source": [
    "#vaders \n",
    "fig,axs =plt.subplots(1,3,figsize=(12,3))\n",
    "sns.barplot(data=vaders,x='Score',y='pos',ax=axs[0])\n",
    "sns.barplot(data=vaders,x='Score',y='neu',ax=axs[1])\n",
    "sns.barplot(data=vaders,x='Score',y='neg',ax=axs[2])\n",
    "axs[0].set_title('Positive')\n",
    "axs[1].set_title('Neutral')\n",
    "axs[2].set_title('Negative')\n",
    "plt.tight_layout()\n",
    "plt.show()\n",
    "# From this We Can See that The Ratings Higher Will have High Positive Score and Low Ratings Will have Lower Score\n"
   ]
  },
  {
   "cell_type": "markdown",
   "id": "a58ae916",
   "metadata": {
    "papermill": {
     "duration": 0.00772,
     "end_time": "2025-01-22T09:48:53.933263",
     "exception": false,
     "start_time": "2025-01-22T09:48:53.925543",
     "status": "completed"
    },
    "tags": []
   },
   "source": [
    "# ROBERTA PRETRAINED MODEL \n",
    ". Use a model trained of large corpus of data\n",
    ". Transformer model accounts for the words but also the context of the words "
   ]
  },
  {
   "cell_type": "code",
   "execution_count": 15,
   "id": "a151625a",
   "metadata": {
    "execution": {
     "iopub.execute_input": "2025-01-22T09:48:53.950791Z",
     "iopub.status.busy": "2025-01-22T09:48:53.950390Z",
     "iopub.status.idle": "2025-01-22T09:49:05.743924Z",
     "shell.execute_reply": "2025-01-22T09:49:05.742685Z"
    },
    "papermill": {
     "duration": 11.804734,
     "end_time": "2025-01-22T09:49:05.746121",
     "exception": false,
     "start_time": "2025-01-22T09:48:53.941387",
     "status": "completed"
    },
    "tags": []
   },
   "outputs": [],
   "source": [
    "from transformers import AutoTokenizer \n",
    "from transformers import AutoModelForSequenceClassification\n",
    "from scipy.special import softmax\n"
   ]
  }
 ],
 "metadata": {
  "kaggle": {
   "accelerator": "none",
   "dataSources": [
    {
     "datasetId": 18,
     "sourceId": 2157,
     "sourceType": "datasetVersion"
    }
   ],
   "dockerImageVersionId": 30839,
   "isGpuEnabled": false,
   "isInternetEnabled": false,
   "language": "python",
   "sourceType": "notebook"
  },
  "kernelspec": {
   "display_name": "Python 3",
   "language": "python",
   "name": "python3"
  },
  "language_info": {
   "codemirror_mode": {
    "name": "ipython",
    "version": 3
   },
   "file_extension": ".py",
   "mimetype": "text/x-python",
   "name": "python",
   "nbconvert_exporter": "python",
   "pygments_lexer": "ipython3",
   "version": "3.10.12"
  },
  "papermill": {
   "default_parameters": {},
   "duration": 33.589934,
   "end_time": "2025-01-22T09:49:09.113459",
   "environment_variables": {},
   "exception": null,
   "input_path": "__notebook__.ipynb",
   "output_path": "__notebook__.ipynb",
   "parameters": {},
   "start_time": "2025-01-22T09:48:35.523525",
   "version": "2.6.0"
  },
  "widgets": {
   "application/vnd.jupyter.widget-state+json": {
    "state": {
     "010a86df9a8c4770aac6c478cbf06f54": {
      "model_module": "@jupyter-widgets/base",
      "model_module_version": "2.0.0",
      "model_name": "LayoutModel",
      "state": {
       "_model_module": "@jupyter-widgets/base",
       "_model_module_version": "2.0.0",
       "_model_name": "LayoutModel",
       "_view_count": null,
       "_view_module": "@jupyter-widgets/base",
       "_view_module_version": "2.0.0",
       "_view_name": "LayoutView",
       "align_content": null,
       "align_items": null,
       "align_self": null,
       "border_bottom": null,
       "border_left": null,
       "border_right": null,
       "border_top": null,
       "bottom": null,
       "display": null,
       "flex": null,
       "flex_flow": null,
       "grid_area": null,
       "grid_auto_columns": null,
       "grid_auto_flow": null,
       "grid_auto_rows": null,
       "grid_column": null,
       "grid_gap": null,
       "grid_row": null,
       "grid_template_areas": null,
       "grid_template_columns": null,
       "grid_template_rows": null,
       "height": null,
       "justify_content": null,
       "justify_items": null,
       "left": null,
       "margin": null,
       "max_height": null,
       "max_width": null,
       "min_height": null,
       "min_width": null,
       "object_fit": null,
       "object_position": null,
       "order": null,
       "overflow": null,
       "padding": null,
       "right": null,
       "top": null,
       "visibility": null,
       "width": null
      }
     },
     "32fd425b787d480c818aa327f0a1eead": {
      "model_module": "@jupyter-widgets/base",
      "model_module_version": "2.0.0",
      "model_name": "LayoutModel",
      "state": {
       "_model_module": "@jupyter-widgets/base",
       "_model_module_version": "2.0.0",
       "_model_name": "LayoutModel",
       "_view_count": null,
       "_view_module": "@jupyter-widgets/base",
       "_view_module_version": "2.0.0",
       "_view_name": "LayoutView",
       "align_content": null,
       "align_items": null,
       "align_self": null,
       "border_bottom": null,
       "border_left": null,
       "border_right": null,
       "border_top": null,
       "bottom": null,
       "display": null,
       "flex": null,
       "flex_flow": null,
       "grid_area": null,
       "grid_auto_columns": null,
       "grid_auto_flow": null,
       "grid_auto_rows": null,
       "grid_column": null,
       "grid_gap": null,
       "grid_row": null,
       "grid_template_areas": null,
       "grid_template_columns": null,
       "grid_template_rows": null,
       "height": null,
       "justify_content": null,
       "justify_items": null,
       "left": null,
       "margin": null,
       "max_height": null,
       "max_width": null,
       "min_height": null,
       "min_width": null,
       "object_fit": null,
       "object_position": null,
       "order": null,
       "overflow": null,
       "padding": null,
       "right": null,
       "top": null,
       "visibility": null,
       "width": null
      }
     },
     "6fd5ecf48feb40408700b207c71ae6a8": {
      "model_module": "@jupyter-widgets/base",
      "model_module_version": "2.0.0",
      "model_name": "LayoutModel",
      "state": {
       "_model_module": "@jupyter-widgets/base",
       "_model_module_version": "2.0.0",
       "_model_name": "LayoutModel",
       "_view_count": null,
       "_view_module": "@jupyter-widgets/base",
       "_view_module_version": "2.0.0",
       "_view_name": "LayoutView",
       "align_content": null,
       "align_items": null,
       "align_self": null,
       "border_bottom": null,
       "border_left": null,
       "border_right": null,
       "border_top": null,
       "bottom": null,
       "display": null,
       "flex": null,
       "flex_flow": null,
       "grid_area": null,
       "grid_auto_columns": null,
       "grid_auto_flow": null,
       "grid_auto_rows": null,
       "grid_column": null,
       "grid_gap": null,
       "grid_row": null,
       "grid_template_areas": null,
       "grid_template_columns": null,
       "grid_template_rows": null,
       "height": null,
       "justify_content": null,
       "justify_items": null,
       "left": null,
       "margin": null,
       "max_height": null,
       "max_width": null,
       "min_height": null,
       "min_width": null,
       "object_fit": null,
       "object_position": null,
       "order": null,
       "overflow": null,
       "padding": null,
       "right": null,
       "top": null,
       "visibility": null,
       "width": null
      }
     },
     "7e2ef972a2d9417b898755ebca4688e8": {
      "model_module": "@jupyter-widgets/controls",
      "model_module_version": "2.0.0",
      "model_name": "ProgressStyleModel",
      "state": {
       "_model_module": "@jupyter-widgets/controls",
       "_model_module_version": "2.0.0",
       "_model_name": "ProgressStyleModel",
       "_view_count": null,
       "_view_module": "@jupyter-widgets/base",
       "_view_module_version": "2.0.0",
       "_view_name": "StyleView",
       "bar_color": null,
       "description_width": ""
      }
     },
     "7f1d8e3e52a045789c3cd83c8084e2c9": {
      "model_module": "@jupyter-widgets/controls",
      "model_module_version": "2.0.0",
      "model_name": "HBoxModel",
      "state": {
       "_dom_classes": [],
       "_model_module": "@jupyter-widgets/controls",
       "_model_module_version": "2.0.0",
       "_model_name": "HBoxModel",
       "_view_count": null,
       "_view_module": "@jupyter-widgets/controls",
       "_view_module_version": "2.0.0",
       "_view_name": "HBoxView",
       "box_style": "",
       "children": [
        "IPY_MODEL_b6089586fe2e47d89aeb8644e1f03a7b",
        "IPY_MODEL_e3cc4da2ed0545b9a3fe54dcbdda7c65",
        "IPY_MODEL_f8996991ac30471fb5d07e3e12409bc6"
       ],
       "layout": "IPY_MODEL_b2cb9c500c834fabb995cc358844b7ce",
       "tabbable": null,
       "tooltip": null
      }
     },
     "b2cb9c500c834fabb995cc358844b7ce": {
      "model_module": "@jupyter-widgets/base",
      "model_module_version": "2.0.0",
      "model_name": "LayoutModel",
      "state": {
       "_model_module": "@jupyter-widgets/base",
       "_model_module_version": "2.0.0",
       "_model_name": "LayoutModel",
       "_view_count": null,
       "_view_module": "@jupyter-widgets/base",
       "_view_module_version": "2.0.0",
       "_view_name": "LayoutView",
       "align_content": null,
       "align_items": null,
       "align_self": null,
       "border_bottom": null,
       "border_left": null,
       "border_right": null,
       "border_top": null,
       "bottom": null,
       "display": null,
       "flex": null,
       "flex_flow": null,
       "grid_area": null,
       "grid_auto_columns": null,
       "grid_auto_flow": null,
       "grid_auto_rows": null,
       "grid_column": null,
       "grid_gap": null,
       "grid_row": null,
       "grid_template_areas": null,
       "grid_template_columns": null,
       "grid_template_rows": null,
       "height": null,
       "justify_content": null,
       "justify_items": null,
       "left": null,
       "margin": null,
       "max_height": null,
       "max_width": null,
       "min_height": null,
       "min_width": null,
       "object_fit": null,
       "object_position": null,
       "order": null,
       "overflow": null,
       "padding": null,
       "right": null,
       "top": null,
       "visibility": null,
       "width": null
      }
     },
     "b6089586fe2e47d89aeb8644e1f03a7b": {
      "model_module": "@jupyter-widgets/controls",
      "model_module_version": "2.0.0",
      "model_name": "HTMLModel",
      "state": {
       "_dom_classes": [],
       "_model_module": "@jupyter-widgets/controls",
       "_model_module_version": "2.0.0",
       "_model_name": "HTMLModel",
       "_view_count": null,
       "_view_module": "@jupyter-widgets/controls",
       "_view_module_version": "2.0.0",
       "_view_name": "HTMLView",
       "description": "",
       "description_allow_html": false,
       "layout": "IPY_MODEL_6fd5ecf48feb40408700b207c71ae6a8",
       "placeholder": "​",
       "style": "IPY_MODEL_ce841ffcf8e24c2e9cdd119ab8f59d21",
       "tabbable": null,
       "tooltip": null,
       "value": "100%"
      }
     },
     "ce841ffcf8e24c2e9cdd119ab8f59d21": {
      "model_module": "@jupyter-widgets/controls",
      "model_module_version": "2.0.0",
      "model_name": "HTMLStyleModel",
      "state": {
       "_model_module": "@jupyter-widgets/controls",
       "_model_module_version": "2.0.0",
       "_model_name": "HTMLStyleModel",
       "_view_count": null,
       "_view_module": "@jupyter-widgets/base",
       "_view_module_version": "2.0.0",
       "_view_name": "StyleView",
       "background": null,
       "description_width": "",
       "font_size": null,
       "text_color": null
      }
     },
     "e3cc4da2ed0545b9a3fe54dcbdda7c65": {
      "model_module": "@jupyter-widgets/controls",
      "model_module_version": "2.0.0",
      "model_name": "FloatProgressModel",
      "state": {
       "_dom_classes": [],
       "_model_module": "@jupyter-widgets/controls",
       "_model_module_version": "2.0.0",
       "_model_name": "FloatProgressModel",
       "_view_count": null,
       "_view_module": "@jupyter-widgets/controls",
       "_view_module_version": "2.0.0",
       "_view_name": "ProgressView",
       "bar_style": "success",
       "description": "",
       "description_allow_html": false,
       "layout": "IPY_MODEL_010a86df9a8c4770aac6c478cbf06f54",
       "max": 500.0,
       "min": 0.0,
       "orientation": "horizontal",
       "style": "IPY_MODEL_7e2ef972a2d9417b898755ebca4688e8",
       "tabbable": null,
       "tooltip": null,
       "value": 500.0
      }
     },
     "f5d22020453c4852b693e46a92001bfb": {
      "model_module": "@jupyter-widgets/controls",
      "model_module_version": "2.0.0",
      "model_name": "HTMLStyleModel",
      "state": {
       "_model_module": "@jupyter-widgets/controls",
       "_model_module_version": "2.0.0",
       "_model_name": "HTMLStyleModel",
       "_view_count": null,
       "_view_module": "@jupyter-widgets/base",
       "_view_module_version": "2.0.0",
       "_view_name": "StyleView",
       "background": null,
       "description_width": "",
       "font_size": null,
       "text_color": null
      }
     },
     "f8996991ac30471fb5d07e3e12409bc6": {
      "model_module": "@jupyter-widgets/controls",
      "model_module_version": "2.0.0",
      "model_name": "HTMLModel",
      "state": {
       "_dom_classes": [],
       "_model_module": "@jupyter-widgets/controls",
       "_model_module_version": "2.0.0",
       "_model_name": "HTMLModel",
       "_view_count": null,
       "_view_module": "@jupyter-widgets/controls",
       "_view_module_version": "2.0.0",
       "_view_name": "HTMLView",
       "description": "",
       "description_allow_html": false,
       "layout": "IPY_MODEL_32fd425b787d480c818aa327f0a1eead",
       "placeholder": "​",
       "style": "IPY_MODEL_f5d22020453c4852b693e46a92001bfb",
       "tabbable": null,
       "tooltip": null,
       "value": " 500/500 [00:00&lt;00:00, 1108.57it/s]"
      }
     }
    },
    "version_major": 2,
    "version_minor": 0
   }
  }
 },
 "nbformat": 4,
 "nbformat_minor": 5
}
